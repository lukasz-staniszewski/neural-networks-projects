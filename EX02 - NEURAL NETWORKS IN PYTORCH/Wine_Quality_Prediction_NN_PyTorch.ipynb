{
 "cells": [
  {
   "cell_type": "markdown",
   "id": "0278b1ec",
   "metadata": {
    "toc": true
   },
   "source": [
    "<h1>Table of Contents<span class=\"tocSkip\"></span></h1>\n",
    "<div class=\"toc\"><ul class=\"toc-item\"><li><span><a href=\"#Zadanie\" data-toc-modified-id=\"Zadanie-1\"><span class=\"toc-item-num\">1&nbsp;&nbsp;</span>Zadanie</a></span></li><li><span><a href=\"#Biblioteki-+-GPU\" data-toc-modified-id=\"Biblioteki-+-GPU-2\"><span class=\"toc-item-num\">2&nbsp;&nbsp;</span>Biblioteki + GPU</a></span></li><li><span><a href=\"#Rozwiązanie-1---3-warstwowa-sieć-neuronowa\" data-toc-modified-id=\"Rozwiązanie-1---3-warstwowa-sieć-neuronowa-3\"><span class=\"toc-item-num\">3&nbsp;&nbsp;</span>Rozwiązanie 1 - 3-warstwowa sieć neuronowa</a></span></li><li><span><a href=\"#Rozwiązanie-2---regresja-liniowa\" data-toc-modified-id=\"Rozwiązanie-2---regresja-liniowa-4\"><span class=\"toc-item-num\">4&nbsp;&nbsp;</span>Rozwiązanie 2 - regresja liniowa</a></span></li></ul></div>"
   ]
  },
  {
   "cell_type": "markdown",
   "id": "e29e97e8",
   "metadata": {
    "heading_collapsed": true
   },
   "source": [
    "# Zadanie\n",
    "+ Przewidzenie jakości wina na podstawie jego parametrów.\n",
    "+ Zbiór danych: 'https://archive.ics.uci.edu/ml/machine-learning-databases/wine-quality/winequality-white.csv'"
   ]
  },
  {
   "cell_type": "code",
   "execution_count": 1,
   "id": "cc6d95fc",
   "metadata": {
    "ExecuteTime": {
     "end_time": "2021-10-16T11:47:07.936036Z",
     "start_time": "2021-10-16T11:47:06.101849Z"
    },
    "hidden": true,
    "scrolled": true
   },
   "outputs": [
    {
     "data": {
      "text/html": [
       "<div>\n",
       "<style scoped>\n",
       "    .dataframe tbody tr th:only-of-type {\n",
       "        vertical-align: middle;\n",
       "    }\n",
       "\n",
       "    .dataframe tbody tr th {\n",
       "        vertical-align: top;\n",
       "    }\n",
       "\n",
       "    .dataframe thead th {\n",
       "        text-align: right;\n",
       "    }\n",
       "</style>\n",
       "<table border=\"1\" class=\"dataframe\">\n",
       "  <thead>\n",
       "    <tr style=\"text-align: right;\">\n",
       "      <th></th>\n",
       "      <th>fixed acidity</th>\n",
       "      <th>volatile acidity</th>\n",
       "      <th>citric acid</th>\n",
       "      <th>residual sugar</th>\n",
       "      <th>chlorides</th>\n",
       "      <th>free sulfur dioxide</th>\n",
       "      <th>total sulfur dioxide</th>\n",
       "      <th>density</th>\n",
       "      <th>pH</th>\n",
       "      <th>sulphates</th>\n",
       "      <th>alcohol</th>\n",
       "      <th>quality</th>\n",
       "    </tr>\n",
       "  </thead>\n",
       "  <tbody>\n",
       "    <tr>\n",
       "      <th>0</th>\n",
       "      <td>7.0</td>\n",
       "      <td>0.27</td>\n",
       "      <td>0.36</td>\n",
       "      <td>20.7</td>\n",
       "      <td>0.045</td>\n",
       "      <td>45.0</td>\n",
       "      <td>170.0</td>\n",
       "      <td>1.00100</td>\n",
       "      <td>3.00</td>\n",
       "      <td>0.45</td>\n",
       "      <td>8.8</td>\n",
       "      <td>6</td>\n",
       "    </tr>\n",
       "    <tr>\n",
       "      <th>1</th>\n",
       "      <td>6.3</td>\n",
       "      <td>0.30</td>\n",
       "      <td>0.34</td>\n",
       "      <td>1.6</td>\n",
       "      <td>0.049</td>\n",
       "      <td>14.0</td>\n",
       "      <td>132.0</td>\n",
       "      <td>0.99400</td>\n",
       "      <td>3.30</td>\n",
       "      <td>0.49</td>\n",
       "      <td>9.5</td>\n",
       "      <td>6</td>\n",
       "    </tr>\n",
       "    <tr>\n",
       "      <th>2</th>\n",
       "      <td>8.1</td>\n",
       "      <td>0.28</td>\n",
       "      <td>0.40</td>\n",
       "      <td>6.9</td>\n",
       "      <td>0.050</td>\n",
       "      <td>30.0</td>\n",
       "      <td>97.0</td>\n",
       "      <td>0.99510</td>\n",
       "      <td>3.26</td>\n",
       "      <td>0.44</td>\n",
       "      <td>10.1</td>\n",
       "      <td>6</td>\n",
       "    </tr>\n",
       "    <tr>\n",
       "      <th>3</th>\n",
       "      <td>7.2</td>\n",
       "      <td>0.23</td>\n",
       "      <td>0.32</td>\n",
       "      <td>8.5</td>\n",
       "      <td>0.058</td>\n",
       "      <td>47.0</td>\n",
       "      <td>186.0</td>\n",
       "      <td>0.99560</td>\n",
       "      <td>3.19</td>\n",
       "      <td>0.40</td>\n",
       "      <td>9.9</td>\n",
       "      <td>6</td>\n",
       "    </tr>\n",
       "    <tr>\n",
       "      <th>4</th>\n",
       "      <td>7.2</td>\n",
       "      <td>0.23</td>\n",
       "      <td>0.32</td>\n",
       "      <td>8.5</td>\n",
       "      <td>0.058</td>\n",
       "      <td>47.0</td>\n",
       "      <td>186.0</td>\n",
       "      <td>0.99560</td>\n",
       "      <td>3.19</td>\n",
       "      <td>0.40</td>\n",
       "      <td>9.9</td>\n",
       "      <td>6</td>\n",
       "    </tr>\n",
       "    <tr>\n",
       "      <th>...</th>\n",
       "      <td>...</td>\n",
       "      <td>...</td>\n",
       "      <td>...</td>\n",
       "      <td>...</td>\n",
       "      <td>...</td>\n",
       "      <td>...</td>\n",
       "      <td>...</td>\n",
       "      <td>...</td>\n",
       "      <td>...</td>\n",
       "      <td>...</td>\n",
       "      <td>...</td>\n",
       "      <td>...</td>\n",
       "    </tr>\n",
       "    <tr>\n",
       "      <th>4893</th>\n",
       "      <td>6.2</td>\n",
       "      <td>0.21</td>\n",
       "      <td>0.29</td>\n",
       "      <td>1.6</td>\n",
       "      <td>0.039</td>\n",
       "      <td>24.0</td>\n",
       "      <td>92.0</td>\n",
       "      <td>0.99114</td>\n",
       "      <td>3.27</td>\n",
       "      <td>0.50</td>\n",
       "      <td>11.2</td>\n",
       "      <td>6</td>\n",
       "    </tr>\n",
       "    <tr>\n",
       "      <th>4894</th>\n",
       "      <td>6.6</td>\n",
       "      <td>0.32</td>\n",
       "      <td>0.36</td>\n",
       "      <td>8.0</td>\n",
       "      <td>0.047</td>\n",
       "      <td>57.0</td>\n",
       "      <td>168.0</td>\n",
       "      <td>0.99490</td>\n",
       "      <td>3.15</td>\n",
       "      <td>0.46</td>\n",
       "      <td>9.6</td>\n",
       "      <td>5</td>\n",
       "    </tr>\n",
       "    <tr>\n",
       "      <th>4895</th>\n",
       "      <td>6.5</td>\n",
       "      <td>0.24</td>\n",
       "      <td>0.19</td>\n",
       "      <td>1.2</td>\n",
       "      <td>0.041</td>\n",
       "      <td>30.0</td>\n",
       "      <td>111.0</td>\n",
       "      <td>0.99254</td>\n",
       "      <td>2.99</td>\n",
       "      <td>0.46</td>\n",
       "      <td>9.4</td>\n",
       "      <td>6</td>\n",
       "    </tr>\n",
       "    <tr>\n",
       "      <th>4896</th>\n",
       "      <td>5.5</td>\n",
       "      <td>0.29</td>\n",
       "      <td>0.30</td>\n",
       "      <td>1.1</td>\n",
       "      <td>0.022</td>\n",
       "      <td>20.0</td>\n",
       "      <td>110.0</td>\n",
       "      <td>0.98869</td>\n",
       "      <td>3.34</td>\n",
       "      <td>0.38</td>\n",
       "      <td>12.8</td>\n",
       "      <td>7</td>\n",
       "    </tr>\n",
       "    <tr>\n",
       "      <th>4897</th>\n",
       "      <td>6.0</td>\n",
       "      <td>0.21</td>\n",
       "      <td>0.38</td>\n",
       "      <td>0.8</td>\n",
       "      <td>0.020</td>\n",
       "      <td>22.0</td>\n",
       "      <td>98.0</td>\n",
       "      <td>0.98941</td>\n",
       "      <td>3.26</td>\n",
       "      <td>0.32</td>\n",
       "      <td>11.8</td>\n",
       "      <td>6</td>\n",
       "    </tr>\n",
       "  </tbody>\n",
       "</table>\n",
       "<p>4898 rows × 12 columns</p>\n",
       "</div>"
      ],
      "text/plain": [
       "      fixed acidity  volatile acidity  citric acid  residual sugar  chlorides  \\\n",
       "0               7.0              0.27         0.36            20.7      0.045   \n",
       "1               6.3              0.30         0.34             1.6      0.049   \n",
       "2               8.1              0.28         0.40             6.9      0.050   \n",
       "3               7.2              0.23         0.32             8.5      0.058   \n",
       "4               7.2              0.23         0.32             8.5      0.058   \n",
       "...             ...               ...          ...             ...        ...   \n",
       "4893            6.2              0.21         0.29             1.6      0.039   \n",
       "4894            6.6              0.32         0.36             8.0      0.047   \n",
       "4895            6.5              0.24         0.19             1.2      0.041   \n",
       "4896            5.5              0.29         0.30             1.1      0.022   \n",
       "4897            6.0              0.21         0.38             0.8      0.020   \n",
       "\n",
       "      free sulfur dioxide  total sulfur dioxide  density    pH  sulphates  \\\n",
       "0                    45.0                 170.0  1.00100  3.00       0.45   \n",
       "1                    14.0                 132.0  0.99400  3.30       0.49   \n",
       "2                    30.0                  97.0  0.99510  3.26       0.44   \n",
       "3                    47.0                 186.0  0.99560  3.19       0.40   \n",
       "4                    47.0                 186.0  0.99560  3.19       0.40   \n",
       "...                   ...                   ...      ...   ...        ...   \n",
       "4893                 24.0                  92.0  0.99114  3.27       0.50   \n",
       "4894                 57.0                 168.0  0.99490  3.15       0.46   \n",
       "4895                 30.0                 111.0  0.99254  2.99       0.46   \n",
       "4896                 20.0                 110.0  0.98869  3.34       0.38   \n",
       "4897                 22.0                  98.0  0.98941  3.26       0.32   \n",
       "\n",
       "      alcohol  quality  \n",
       "0         8.8        6  \n",
       "1         9.5        6  \n",
       "2        10.1        6  \n",
       "3         9.9        6  \n",
       "4         9.9        6  \n",
       "...       ...      ...  \n",
       "4893     11.2        6  \n",
       "4894      9.6        5  \n",
       "4895      9.4        6  \n",
       "4896     12.8        7  \n",
       "4897     11.8        6  \n",
       "\n",
       "[4898 rows x 12 columns]"
      ]
     },
     "execution_count": 1,
     "metadata": {},
     "output_type": "execute_result"
    }
   ],
   "source": [
    "import pandas as pd\n",
    "\n",
    "df = pd.read_csv(\n",
    "    'https://archive.ics.uci.edu/ml/machine-learning-databases/wine-quality/winequality-white.csv',\n",
    "    delimiter=\";\")\n",
    "\n",
    "df"
   ]
  },
  {
   "cell_type": "markdown",
   "id": "2cbcb55a",
   "metadata": {
    "heading_collapsed": true
   },
   "source": [
    "# Biblioteki + GPU"
   ]
  },
  {
   "cell_type": "code",
   "execution_count": 2,
   "id": "0ead0769",
   "metadata": {
    "ExecuteTime": {
     "end_time": "2021-10-16T11:47:08.452754Z",
     "start_time": "2021-10-16T11:47:07.938036Z"
    },
    "hidden": true
   },
   "outputs": [],
   "source": [
    "import torch\n",
    "import torch.nn as nn\n",
    "import torch.nn.functional as F\n",
    "import torch.utils.data as data"
   ]
  },
  {
   "cell_type": "code",
   "execution_count": 3,
   "id": "189cbdba",
   "metadata": {
    "ExecuteTime": {
     "end_time": "2021-10-16T11:47:08.484189Z",
     "start_time": "2021-10-16T11:47:08.454751Z"
    },
    "hidden": true
   },
   "outputs": [
    {
     "data": {
      "text/plain": [
       "True"
      ]
     },
     "execution_count": 3,
     "metadata": {},
     "output_type": "execute_result"
    }
   ],
   "source": [
    "torch.cuda.is_available()"
   ]
  },
  {
   "cell_type": "code",
   "execution_count": 4,
   "id": "a4ce0f13",
   "metadata": {
    "ExecuteTime": {
     "end_time": "2021-10-16T11:47:08.500188Z",
     "start_time": "2021-10-16T11:47:08.486186Z"
    },
    "hidden": true
   },
   "outputs": [
    {
     "data": {
      "text/plain": [
       "device(type='cuda')"
      ]
     },
     "execution_count": 4,
     "metadata": {},
     "output_type": "execute_result"
    }
   ],
   "source": [
    "device = torch.device(\"cuda\")\n",
    "device"
   ]
  },
  {
   "cell_type": "markdown",
   "id": "9dd8ed80",
   "metadata": {
    "hidden": true
   },
   "source": [
    "+ Dodanie seedu:"
   ]
  },
  {
   "cell_type": "code",
   "execution_count": 5,
   "id": "48e9932c",
   "metadata": {
    "ExecuteTime": {
     "end_time": "2021-10-16T11:47:08.516185Z",
     "start_time": "2021-10-16T11:47:08.501186Z"
    },
    "hidden": true
   },
   "outputs": [],
   "source": [
    "# GPU operations have a separate seed we also want to set\n",
    "if torch.cuda.is_available():\n",
    "    torch.cuda.manual_seed(42)\n",
    "    torch.cuda.manual_seed_all(42)\n",
    "\n",
    "# Additionally, some operations on a GPU are implemented stochastic for efficiency\n",
    "# We want to ensure that all operations are deterministic on GPU (if used) for reproducibility\n",
    "torch.backends.cudnn.determinstic = True\n",
    "torch.backends.cudnn.benchmark = False"
   ]
  },
  {
   "cell_type": "markdown",
   "id": "6de642e8",
   "metadata": {
    "heading_collapsed": true
   },
   "source": [
    "# Rozwiązanie 1 - 3-warstwowa sieć neuronowa"
   ]
  },
  {
   "cell_type": "markdown",
   "id": "f7ece842",
   "metadata": {
    "ExecuteTime": {
     "end_time": "2021-10-16T11:29:59.843839Z",
     "start_time": "2021-10-16T11:29:59.827851Z"
    },
    "hidden": true
   },
   "source": [
    "+ Wstępne przetwarzanie danych:"
   ]
  },
  {
   "cell_type": "code",
   "execution_count": 6,
   "id": "094c98c5",
   "metadata": {
    "ExecuteTime": {
     "end_time": "2021-10-16T11:47:08.532190Z",
     "start_time": "2021-10-16T11:47:08.517185Z"
    },
    "hidden": true
   },
   "outputs": [],
   "source": [
    "import torch.utils.data as data\n",
    "\n",
    "train = df.sample(frac=0.8, random_state=6)  #random state is a seed value\n",
    "test = df.drop(train.index)\n",
    "\n",
    "train_dataset = data.TensorDataset(\n",
    "    torch.from_numpy(train.values[:, :-1]).float(),\n",
    "    torch.from_numpy(train.values[:, -1]).float())\n",
    "train_data_loader = data.DataLoader(train_dataset, batch_size=32, shuffle=True)"
   ]
  },
  {
   "cell_type": "markdown",
   "id": "42327ace",
   "metadata": {
    "hidden": true
   },
   "source": [
    "+ Klasa modelu:"
   ]
  },
  {
   "cell_type": "code",
   "execution_count": 7,
   "id": "115638ff",
   "metadata": {
    "ExecuteTime": {
     "end_time": "2021-10-16T11:47:08.548183Z",
     "start_time": "2021-10-16T11:47:08.534185Z"
    },
    "hidden": true
   },
   "outputs": [],
   "source": [
    "class WineClassifier(nn.Module):\n",
    "    def __init__(self, num_inputs, num_hidden_1, num_hidden_2, num_outputs):\n",
    "        super().__init__()\n",
    "        # Initialize the modules we need to build the network\n",
    "        self.linear1 = nn.Linear(num_inputs, num_hidden_1)\n",
    "        self.act_fn_1 = nn.Tanh()\n",
    "        self.linear2 = nn.Linear(num_hidden_1, num_hidden_2)\n",
    "        self.act_fn_2 = nn.Tanh()\n",
    "        self.linear3 = nn.Linear(num_hidden_2, num_outputs)\n",
    "\n",
    "    def forward(self, x):\n",
    "        # Perform the calculation of the model to determine the prediction\n",
    "        x = self.linear1(x)\n",
    "        x = self.act_fn_1(x)\n",
    "        x = self.linear2(x)\n",
    "        x = self.act_fn_2(x)\n",
    "        x = self.linear3(x)\n",
    "        return x"
   ]
  },
  {
   "cell_type": "markdown",
   "id": "34930873",
   "metadata": {
    "ExecuteTime": {
     "end_time": "2021-10-16T11:35:32.180030Z",
     "start_time": "2021-10-16T11:35:32.169059Z"
    },
    "hidden": true
   },
   "source": [
    "+ Model z optymalizacją i stratą:"
   ]
  },
  {
   "cell_type": "code",
   "execution_count": 8,
   "id": "962d1f98",
   "metadata": {
    "ExecuteTime": {
     "end_time": "2021-10-16T11:47:10.093058Z",
     "start_time": "2021-10-16T11:47:08.551190Z"
    },
    "hidden": true
   },
   "outputs": [],
   "source": [
    "model_wine = WineClassifier(num_inputs=train_dataset[0][0].shape[0],\n",
    "                            num_hidden_1=400,\n",
    "                            num_hidden_2=200,\n",
    "                            num_outputs=1)\n",
    "# model_wine = SimpleClassifier(num_inputs=train_dataset[0][0].shape[0], num_hidden = 16, num_outputs=1)\n",
    "model_wine.to(device)\n",
    "optimizer_wine = torch.optim.SGD(model_wine.parameters(), lr=0.0006)\n",
    "loss_f = nn.L1Loss()"
   ]
  },
  {
   "cell_type": "markdown",
   "id": "d2db6906",
   "metadata": {
    "hidden": true
   },
   "source": [
    "+ Trening:"
   ]
  },
  {
   "cell_type": "code",
   "execution_count": 9,
   "id": "c7ebe426",
   "metadata": {
    "ExecuteTime": {
     "end_time": "2021-10-16T11:48:15.740120Z",
     "start_time": "2021-10-16T11:47:10.095070Z"
    },
    "hidden": true
   },
   "outputs": [
    {
     "name": "stdout",
     "output_type": "stream",
     "text": [
      "Epoch: 0, loss: 0.721\n",
      "Epoch: 30, loss: 0.634\n",
      "Epoch: 60, loss: 0.657\n",
      "Epoch: 90, loss: 0.486\n",
      "Epoch: 120, loss: 0.495\n",
      "Epoch: 150, loss: 0.579\n",
      "Epoch: 180, loss: 0.814\n",
      "Epoch: 210, loss: 0.51\n",
      "Epoch: 240, loss: 0.713\n"
     ]
    }
   ],
   "source": [
    "model_wine.train()\n",
    "\n",
    "# Training loop\n",
    "for epoch in range(250):\n",
    "    for data_inputs, data_labels in train_data_loader:\n",
    "        data_labels = data_labels.unsqueeze(dim=0)\n",
    "        data_inputs = data_inputs.to(device)\n",
    "        data_labels = data_labels.to(device)\n",
    "\n",
    "        preds = model_wine(data_inputs)\n",
    "\n",
    "        loss = loss_f(preds, data_labels.T)\n",
    "\n",
    "        optimizer_wine.zero_grad()\n",
    "\n",
    "        loss.backward()\n",
    "\n",
    "        optimizer_wine.step()\n",
    "    if epoch % 30 == 0:\n",
    "        print(f\"Epoch: {epoch}, loss: {loss.item():.3}\")"
   ]
  },
  {
   "cell_type": "markdown",
   "id": "6d3df0cf",
   "metadata": {
    "hidden": true
   },
   "source": [
    "+ Test modelu:"
   ]
  },
  {
   "cell_type": "code",
   "execution_count": 10,
   "id": "cd71e530",
   "metadata": {
    "ExecuteTime": {
     "end_time": "2021-10-16T11:48:16.240626Z",
     "start_time": "2021-10-16T11:48:15.741111Z"
    },
    "hidden": true
   },
   "outputs": [
    {
     "name": "stdout",
     "output_type": "stream",
     "text": [
      "Accuracy of the model: 45.31%\n"
     ]
    }
   ],
   "source": [
    "test_dataset = data.TensorDataset(\n",
    "    torch.from_numpy(test.values[:, :-1]).float(),\n",
    "    torch.from_numpy(test.values[:, -1]).float())\n",
    "\n",
    "test_data_loader = data.DataLoader(test_dataset,\n",
    "                                   batch_size=1,\n",
    "                                   shuffle=False,\n",
    "                                   drop_last=False)\n",
    "model_wine.eval()  # Set model to eval mode\n",
    "true_preds, num_preds = 0., 0.\n",
    "\n",
    "with torch.no_grad():  # Deactivate gradients for the following code\n",
    "    for data_inputs, data_labels in test_data_loader:\n",
    "\n",
    "        # Determine prediction of model on test set inputs\n",
    "        data_inputs, data_labels = data_inputs.to(device), data_labels.to(\n",
    "            device)\n",
    "        data_labels = data_labels.unsqueeze(dim=0)\n",
    "        preds = model_wine(data_inputs)\n",
    "        preds = preds.squeeze(dim=1)\n",
    "        # rounding because only possible values are [3,4,5,6,7,8,9]\n",
    "        preds = preds.round()\n",
    "\n",
    "        # Keeping records of predictions\n",
    "        true_preds += (preds == data_labels).sum()\n",
    "        num_preds += data_labels.shape[0]\n",
    "\n",
    "acc = true_preds / num_preds\n",
    "print(f\"Accuracy of the model: {100.0*acc:4.2f}%\")"
   ]
  },
  {
   "cell_type": "markdown",
   "id": "8b3571bc",
   "metadata": {
    "hidden": true
   },
   "source": [
    "+ Niestety rozwiązanie niepoprawne - funkcja wypluwa w większości 6 niezależnie od x:"
   ]
  },
  {
   "cell_type": "code",
   "execution_count": 11,
   "id": "4352b845",
   "metadata": {
    "ExecuteTime": {
     "end_time": "2021-10-16T11:48:16.256538Z",
     "start_time": "2021-10-16T11:48:16.241565Z"
    },
    "hidden": true
   },
   "outputs": [
    {
     "data": {
      "text/plain": [
       "tensor([6., 6., 6., 6., 5., 5., 6., 6., 6., 6., 5., 6., 6., 6., 6., 6., 6., 6.,\n",
       "        6., 6., 6., 6., 6., 6., 6.])"
      ]
     },
     "execution_count": 11,
     "metadata": {},
     "output_type": "execute_result"
    }
   ],
   "source": [
    "mult_matr = test_dataset[:][0].cpu()\n",
    "mult_matr.cpu()\n",
    "model_wine.cpu()\n",
    "with torch.no_grad():\n",
    "    Y = model_wine(mult_matr)\n",
    "Y.T[0][:25].round()"
   ]
  },
  {
   "cell_type": "markdown",
   "id": "82f6ab48",
   "metadata": {},
   "source": [
    "# Rozwiązanie 2 - regresja liniowa"
   ]
  },
  {
   "cell_type": "markdown",
   "id": "042cd115",
   "metadata": {},
   "source": [
    "+ Dane:"
   ]
  },
  {
   "cell_type": "code",
   "execution_count": 12,
   "id": "bd5d0fe3",
   "metadata": {
    "ExecuteTime": {
     "end_time": "2021-10-16T11:48:16.272534Z",
     "start_time": "2021-10-16T11:48:16.257536Z"
    }
   },
   "outputs": [],
   "source": [
    "train = df.sample(frac=0.8, random_state=6)  #random state is a seed value\n",
    "test = df.drop(train.index)\n",
    "train_dataset = data.TensorDataset(\n",
    "    torch.from_numpy(train.values[:, :-1]).float(),\n",
    "    torch.from_numpy(train.values[:, -1]).float())\n",
    "train_data_loader = data.DataLoader(train_dataset, batch_size=16, shuffle=True)"
   ]
  },
  {
   "cell_type": "markdown",
   "id": "50edf6cb",
   "metadata": {},
   "source": [
    "+ Klasa modelu:"
   ]
  },
  {
   "cell_type": "code",
   "execution_count": 13,
   "id": "435c8dfd",
   "metadata": {
    "ExecuteTime": {
     "end_time": "2021-10-16T11:48:16.288533Z",
     "start_time": "2021-10-16T11:48:16.274537Z"
    }
   },
   "outputs": [],
   "source": [
    "class WineClassifier2(nn.Module):\n",
    "    def __init__(self, num_inputs, num_outputs):\n",
    "        super().__init__()\n",
    "        # Initialize the modules we need to build the network\n",
    "        self.linear = nn.Linear(num_inputs, num_outputs)\n",
    "\n",
    "    def forward(self, x):\n",
    "        # Perform the calculation of the model to determine the prediction\n",
    "        x = self.linear(x)\n",
    "        return x"
   ]
  },
  {
   "cell_type": "markdown",
   "id": "b76c25a6",
   "metadata": {},
   "source": [
    "+ Model + optymalizator + funkcja straty:"
   ]
  },
  {
   "cell_type": "code",
   "execution_count": 14,
   "id": "e79f195b",
   "metadata": {
    "ExecuteTime": {
     "end_time": "2021-10-16T11:48:16.303539Z",
     "start_time": "2021-10-16T11:48:16.289534Z"
    }
   },
   "outputs": [],
   "source": [
    "model_wine2 = WineClassifier2(num_inputs=train_dataset[0][0].shape[0],\n",
    "                              num_outputs=1)\n",
    "model_wine2.to(device)\n",
    "optimizer_wine2 = torch.optim.Adam(model_wine2.parameters(), lr=1e-5)\n",
    "loss_f2 = nn.L1Loss()"
   ]
  },
  {
   "cell_type": "markdown",
   "id": "6caa2a16",
   "metadata": {},
   "source": [
    "+ Uczenie sieci:"
   ]
  },
  {
   "cell_type": "code",
   "execution_count": 15,
   "id": "4467054e",
   "metadata": {
    "ExecuteTime": {
     "end_time": "2021-10-16T11:51:00.788962Z",
     "start_time": "2021-10-16T11:48:16.304540Z"
    }
   },
   "outputs": [
    {
     "name": "stdout",
     "output_type": "stream",
     "text": [
      "Epoch: 0, loss: 2.5\n",
      "Epoch: 50, loss: 1.86\n",
      "Epoch: 100, loss: 0.937\n",
      "Epoch: 150, loss: 0.573\n",
      "Epoch: 200, loss: 0.42\n",
      "Epoch: 250, loss: 0.653\n",
      "Epoch: 300, loss: 0.661\n",
      "Epoch: 350, loss: 0.686\n",
      "Epoch: 400, loss: 0.712\n",
      "Epoch: 450, loss: 0.489\n"
     ]
    }
   ],
   "source": [
    "model_wine2.train()\n",
    "\n",
    "# Training loop\n",
    "for epoch in range(500):\n",
    "    for data_inputs, data_labels in train_data_loader:\n",
    "        data_labels = data_labels.unsqueeze(dim=0)\n",
    "        data_inputs = data_inputs.to(device)\n",
    "        data_labels = data_labels.to(device)\n",
    "        preds2 = model_wine2(data_inputs)\n",
    "        loss2 = loss_f2(preds2, data_labels.T)\n",
    "        optimizer_wine2.zero_grad()\n",
    "        loss2.backward()\n",
    "        optimizer_wine2.step()\n",
    "    if epoch % 50 == 0:\n",
    "        print(f\"Epoch: {epoch}, loss: {loss2.item():.3}\")"
   ]
  },
  {
   "cell_type": "markdown",
   "id": "a53ce02a",
   "metadata": {},
   "source": [
    "+ Ewaluacja wyników:"
   ]
  },
  {
   "cell_type": "code",
   "execution_count": 16,
   "id": "9fc26b67",
   "metadata": {
    "ExecuteTime": {
     "end_time": "2021-10-16T11:51:01.148735Z",
     "start_time": "2021-10-16T11:51:00.789608Z"
    }
   },
   "outputs": [
    {
     "name": "stdout",
     "output_type": "stream",
     "text": [
      "Accuracy of the model: 48.98%\n"
     ]
    }
   ],
   "source": [
    "test_dataset = data.TensorDataset(\n",
    "    torch.from_numpy(test.values[:, :-1]).float(),\n",
    "    torch.from_numpy(test.values[:, -1]).float())\n",
    "test_data_loader = data.DataLoader(test_dataset,\n",
    "                                   batch_size=1,\n",
    "                                   shuffle=False,\n",
    "                                   drop_last=False)\n",
    "model_wine2.eval()  # Set model to eval mode\n",
    "true_preds, num_preds = 0., 0.\n",
    "\n",
    "with torch.no_grad():  # Deactivate gradients for the following code\n",
    "    for data_inputs, data_labels in test_data_loader:\n",
    "\n",
    "        # Determine prediction of model on test set inputs\n",
    "        data_inputs, data_labels = data_inputs.to(device), data_labels.to(\n",
    "            device)\n",
    "        data_labels = data_labels.unsqueeze(dim=0)\n",
    "        preds = model_wine2(data_inputs)\n",
    "        preds = preds.squeeze(dim=1)\n",
    "        # rounding because only possible values are [3,4,5,6,7,8,9]\n",
    "        preds = preds.round()\n",
    "\n",
    "        # Keeping records of predictions\n",
    "        true_preds += (preds == data_labels).sum()\n",
    "        num_preds += data_labels.shape[0]\n",
    "\n",
    "acc = true_preds / num_preds\n",
    "print(f\"Accuracy of the model: {100.0*acc:4.2f}%\")"
   ]
  },
  {
   "cell_type": "markdown",
   "id": "847ef98c",
   "metadata": {},
   "source": [
    "+ Pierwsze 30 sklasyfikowanych ocen:"
   ]
  },
  {
   "cell_type": "code",
   "execution_count": 17,
   "id": "e62782bc",
   "metadata": {
    "ExecuteTime": {
     "end_time": "2021-10-16T11:51:01.164739Z",
     "start_time": "2021-10-16T11:51:01.149698Z"
    }
   },
   "outputs": [
    {
     "data": {
      "text/plain": [
       "tensor([6., 7., 6., 6., 5., 6., 6., 6., 5., 5., 5., 6., 5., 6., 5., 6., 6., 6.,\n",
       "        5., 6., 5., 6., 6., 6., 6., 6., 6., 6., 6., 5., 6., 6., 6., 5., 5., 5.,\n",
       "        6., 6., 5., 5., 5., 6., 6., 6., 5., 6., 6., 6., 6., 5., 5., 6., 6., 6.,\n",
       "        5.])"
      ]
     },
     "execution_count": 17,
     "metadata": {},
     "output_type": "execute_result"
    }
   ],
   "source": [
    "mult_matr2 = test_dataset[:][0].cpu()\n",
    "mult_matr2.cpu()\n",
    "model_wine2.cpu()\n",
    "with torch.no_grad():\n",
    "    Y2 = model_wine2(mult_matr)\n",
    "Y2.T[0][:55].round()"
   ]
  }
 ],
 "metadata": {
  "kernelspec": {
   "display_name": "venv",
   "language": "python",
   "name": "venv"
  },
  "language_info": {
   "codemirror_mode": {
    "name": "ipython",
    "version": 3
   },
   "file_extension": ".py",
   "mimetype": "text/x-python",
   "name": "python",
   "nbconvert_exporter": "python",
   "pygments_lexer": "ipython3",
   "version": "3.9.5"
  },
  "toc": {
   "base_numbering": 1,
   "nav_menu": {},
   "number_sections": true,
   "sideBar": true,
   "skip_h1_title": false,
   "title_cell": "Table of Contents",
   "title_sidebar": "Contents",
   "toc_cell": true,
   "toc_position": {},
   "toc_section_display": true,
   "toc_window_display": true
  }
 },
 "nbformat": 4,
 "nbformat_minor": 5
}
