{
 "cells": [
  {
   "cell_type": "markdown",
   "metadata": {},
   "source": [
    "# PyTorch - WPROWADZENIE"
   ]
  },
  {
   "cell_type": "markdown",
   "metadata": {},
   "source": [
    "## Wprowadzenie do tensorów"
   ]
  },
  {
   "cell_type": "code",
   "execution_count": 3,
   "metadata": {
    "ExecuteTime": {
     "end_time": "2021-10-28T22:15:18.913034Z",
     "start_time": "2021-10-28T22:15:18.436512Z"
    }
   },
   "outputs": [],
   "source": [
    "import torch  # pytorch\n",
    "import numpy as np"
   ]
  },
  {
   "cell_type": "markdown",
   "metadata": {},
   "source": [
    "+ Tensory w PyTorchu to specjalne struktury danych które przypominają tablice/macierze. Używamy ich do przechowywania wejśc/wyjść z sieci jak również wag modelu.\n",
    "+ Tensory przypominają swoją budową tablice numpy https://numpy.org/, z zasadniczą różnicą ktorą jest łatwa możliwość przechowywania i operowania na tensorach na kartach graficznych "
   ]
  },
  {
   "cell_type": "markdown",
   "metadata": {},
   "source": [
    "### Tworzenie tensorów"
   ]
  },
  {
   "cell_type": "markdown",
   "metadata": {},
   "source": [
    "Tensory mogą być tworzone w różny sposób:\n",
    "1. Ze standardowych tablic"
   ]
  },
  {
   "cell_type": "code",
   "execution_count": 4,
   "metadata": {
    "ExecuteTime": {
     "end_time": "2021-10-28T22:15:21.458164Z",
     "start_time": "2021-10-28T22:15:21.445163Z"
    }
   },
   "outputs": [
    {
     "data": {
      "text/plain": [
       "tensor([[1, 2],\n",
       "        [3, 4]])"
      ]
     },
     "execution_count": 4,
     "metadata": {},
     "output_type": "execute_result"
    }
   ],
   "source": [
    "data = [[1, 2], [3, 4]]\n",
    "x_data = torch.tensor(data)\n",
    "x_data"
   ]
  },
  {
   "cell_type": "markdown",
   "metadata": {},
   "source": [
    "+ I rzutowane na float:"
   ]
  },
  {
   "cell_type": "code",
   "execution_count": 5,
   "metadata": {
    "ExecuteTime": {
     "end_time": "2021-10-28T22:15:22.194200Z",
     "start_time": "2021-10-28T22:15:22.178205Z"
    }
   },
   "outputs": [
    {
     "data": {
      "text/plain": [
       "tensor([[1., 2.],\n",
       "        [3., 4.]])"
      ]
     },
     "execution_count": 5,
     "metadata": {},
     "output_type": "execute_result"
    }
   ],
   "source": [
    "x_data.float()"
   ]
  },
  {
   "cell_type": "markdown",
   "metadata": {
    "ExecuteTime": {
     "end_time": "2021-10-02T07:40:32.096100Z",
     "start_time": "2021-10-02T07:40:32.090797Z"
    }
   },
   "source": [
    "2. Na podstawie tablic numpy"
   ]
  },
  {
   "cell_type": "code",
   "execution_count": 6,
   "metadata": {
    "ExecuteTime": {
     "end_time": "2021-10-28T22:15:23.224768Z",
     "start_time": "2021-10-28T22:15:23.212743Z"
    }
   },
   "outputs": [
    {
     "data": {
      "text/plain": [
       "tensor([[1, 2],\n",
       "        [3, 4]], dtype=torch.int32)"
      ]
     },
     "execution_count": 6,
     "metadata": {},
     "output_type": "execute_result"
    }
   ],
   "source": [
    "np_array = np.array(data)\n",
    "x_np = torch.from_numpy(np_array)\n",
    "x_np"
   ]
  },
  {
   "cell_type": "code",
   "execution_count": 7,
   "metadata": {
    "ExecuteTime": {
     "end_time": "2021-10-28T22:15:24.070381Z",
     "start_time": "2021-10-28T22:15:24.059386Z"
    }
   },
   "outputs": [
    {
     "data": {
      "text/plain": [
       "tensor([[1., 2.],\n",
       "        [3., 4.]])"
      ]
     },
     "execution_count": 7,
     "metadata": {},
     "output_type": "execute_result"
    }
   ],
   "source": [
    "torch.Tensor(np_array)"
   ]
  },
  {
   "cell_type": "markdown",
   "metadata": {},
   "source": [
    "3. Na podstawie innych tensorów"
   ]
  },
  {
   "cell_type": "code",
   "execution_count": 8,
   "metadata": {
    "ExecuteTime": {
     "end_time": "2021-10-28T22:15:24.790537Z",
     "start_time": "2021-10-28T22:15:24.776543Z"
    },
    "scrolled": true
   },
   "outputs": [
    {
     "name": "stdout",
     "output_type": "stream",
     "text": [
      "Ones Tensor: \n",
      " tensor([[1, 1],\n",
      "        [1, 1]]) \n",
      "\n",
      "Random Tensor: \n",
      " tensor([[0.5272, 0.5329],\n",
      "        [0.8518, 0.5509]]) \n",
      "\n"
     ]
    }
   ],
   "source": [
    "x_ones = torch.ones_like(x_data)  # retains the properties of x_data\n",
    "print(f\"Ones Tensor: \\n {x_ones} \\n\")\n",
    "\n",
    "x_rand = torch.rand_like(x_data,\n",
    "                         dtype=torch.float)  # overrides the datatype of x_data\n",
    "print(f\"Random Tensor: \\n {x_rand} \\n\")"
   ]
  },
  {
   "cell_type": "markdown",
   "metadata": {},
   "source": [
    "4. Z losowymi lub stałymi wartościami"
   ]
  },
  {
   "cell_type": "code",
   "execution_count": 9,
   "metadata": {
    "ExecuteTime": {
     "end_time": "2021-10-28T22:15:25.924266Z",
     "start_time": "2021-10-28T22:15:25.905264Z"
    }
   },
   "outputs": [
    {
     "name": "stdout",
     "output_type": "stream",
     "text": [
      "Random Tensor: \n",
      " tensor([[0.4344, 0.0624, 0.5551],\n",
      "        [0.0337, 0.1628, 0.2399]]) \n",
      "\n",
      "Ones Tensor: \n",
      " tensor([[1., 1., 1.],\n",
      "        [1., 1., 1.]]) \n",
      "\n",
      "Zeros Tensor: \n",
      " tensor([[0., 0., 0.],\n",
      "        [0., 0., 0.]]) \n",
      "\n"
     ]
    }
   ],
   "source": [
    "shape = (\n",
    "    2,\n",
    "    3,\n",
    ")\n",
    "rand_tensor = torch.rand(shape)\n",
    "print(f\"Random Tensor: \\n {rand_tensor} \\n\")\n",
    "ones_tensor = torch.ones(shape)\n",
    "print(f\"Ones Tensor: \\n {ones_tensor} \\n\")\n",
    "zeros_tensor = torch.zeros(shape)\n",
    "print(f\"Zeros Tensor: \\n {zeros_tensor} \\n\")"
   ]
  },
  {
   "cell_type": "markdown",
   "metadata": {},
   "source": [
    "### Atrybuty tensorów"
   ]
  },
  {
   "cell_type": "code",
   "execution_count": 10,
   "metadata": {
    "ExecuteTime": {
     "end_time": "2021-10-28T22:15:27.471577Z",
     "start_time": "2021-10-28T22:15:27.457553Z"
    }
   },
   "outputs": [
    {
     "name": "stdout",
     "output_type": "stream",
     "text": [
      "Shape of tensor: torch.Size([3, 4])\n",
      "Datatype of tensor: torch.float32\n",
      "Device tensor is stored on: cpu\n"
     ]
    }
   ],
   "source": [
    "tensor = torch.rand(3, 4)\n",
    "\n",
    "print(f\"Shape of tensor: {tensor.shape}\")\n",
    "print(f\"Datatype of tensor: {tensor.dtype}\")\n",
    "print(f\"Device tensor is stored on: {tensor.device}\")"
   ]
  },
  {
   "cell_type": "markdown",
   "metadata": {},
   "source": [
    "### Operacje na tensorach"
   ]
  },
  {
   "cell_type": "markdown",
   "metadata": {},
   "source": [
    "+ Wszystkie operacje na tensorach są opisane tutaj: https://pytorch.org/docs/stable/torch.html\n",
    "+ Standardowo operacje są uruchamiane na CPU, ale można przenosić tensory, całe modele i **wszystkie operacje** na GPU (co zazwyczaj jest szybsze) za pomocą prostej komendy."
   ]
  },
  {
   "cell_type": "markdown",
   "metadata": {},
   "source": [
    "#### Standardowe indeksowanie i slicing"
   ]
  },
  {
   "cell_type": "code",
   "execution_count": 11,
   "metadata": {
    "ExecuteTime": {
     "end_time": "2021-10-28T22:15:30.435510Z",
     "start_time": "2021-10-28T22:15:30.419480Z"
    }
   },
   "outputs": [
    {
     "name": "stdout",
     "output_type": "stream",
     "text": [
      "First row:  tensor([1., 1., 1., 1.])\n",
      "First column:  tensor([1., 1., 1., 1.])\n",
      "Last column: tensor([1., 1., 1., 1.])\n",
      "tensor([[1., 0., 1., 1.],\n",
      "        [1., 0., 1., 1.],\n",
      "        [1., 0., 1., 1.],\n",
      "        [1., 0., 1., 1.]])\n"
     ]
    }
   ],
   "source": [
    "tensor = torch.ones(4, 4)\n",
    "print('First row: ', tensor[0])\n",
    "print('First column: ', tensor[:, 0])\n",
    "print('Last column:', tensor[:, -1])\n",
    "tensor[:, 1] = 0\n",
    "print(tensor)"
   ]
  },
  {
   "cell_type": "markdown",
   "metadata": {},
   "source": [
    "#### Transponowanie tensorów"
   ]
  },
  {
   "cell_type": "code",
   "execution_count": 12,
   "metadata": {
    "ExecuteTime": {
     "end_time": "2021-10-28T22:15:32.398179Z",
     "start_time": "2021-10-28T22:15:32.386155Z"
    }
   },
   "outputs": [
    {
     "name": "stdout",
     "output_type": "stream",
     "text": [
      "tensor([[1., 0., 2.],\n",
      "        [1., 0., 2.],\n",
      "        [1., 0., 2.],\n",
      "        [1., 0., 2.]])\n",
      "Tensor shape:torch.Size([4, 3])\n",
      "\n",
      "tensor([[1., 1., 1., 1.],\n",
      "        [0., 0., 0., 0.],\n",
      "        [2., 2., 2., 2.]])\n",
      "Transposed tensor shape:torch.Size([3, 4])\n"
     ]
    }
   ],
   "source": [
    "tensor = torch.ones(4, 3)\n",
    "tensor[:, 1] = 0\n",
    "tensor[:, 2] = 2\n",
    "print(tensor)\n",
    "print(f\"Tensor shape:{tensor.shape}\\n\")\n",
    "tensor2 = tensor.T\n",
    "print(tensor2)\n",
    "print(f\"Transposed tensor shape:{tensor2.shape}\")"
   ]
  },
  {
   "cell_type": "markdown",
   "metadata": {},
   "source": [
    "#### Zmiana wymiarów"
   ]
  },
  {
   "cell_type": "code",
   "execution_count": 13,
   "metadata": {
    "ExecuteTime": {
     "end_time": "2021-10-28T22:15:33.596484Z",
     "start_time": "2021-10-28T22:15:33.583485Z"
    }
   },
   "outputs": [
    {
     "name": "stdout",
     "output_type": "stream",
     "text": [
      "tensor([1., 1., 1., 1., 1., 1., 1., 1., 1., 1.])\n",
      "Tensor shape:torch.Size([10])\n",
      "\n",
      "tensor([[1., 1., 1., 1., 1., 1., 1., 1., 1., 1.]])\n",
      "Tensor shape:torch.Size([1, 10])\n",
      "\n",
      "tensor([[1.],\n",
      "        [1.],\n",
      "        [1.],\n",
      "        [1.],\n",
      "        [1.],\n",
      "        [1.],\n",
      "        [1.],\n",
      "        [1.],\n",
      "        [1.],\n",
      "        [1.]])\n",
      "Tensor shape:torch.Size([10, 1])\n",
      "\n",
      "tensor([[1., 1.],\n",
      "        [1., 1.],\n",
      "        [1., 1.],\n",
      "        [1., 1.],\n",
      "        [1., 1.]])\n",
      "Tensor shape:torch.Size([5, 2])\n",
      "\n"
     ]
    }
   ],
   "source": [
    "tensor = torch.ones([10])\n",
    "print(tensor)\n",
    "print(f\"Tensor shape:{tensor.shape}\\n\")\n",
    "\n",
    "tensor2 = tensor.unsqueeze(dim=0)  # zwiększenie wymiarowości\n",
    "print(tensor2)\n",
    "print(f\"Tensor shape:{tensor2.shape}\\n\")\n",
    "\n",
    "tensor3 = tensor.unsqueeze(dim=1)\n",
    "print(tensor3)\n",
    "print(f\"Tensor shape:{tensor3.shape}\\n\")\n",
    "\n",
    "tensor4 = tensor.view(5, 2)  # podajemy mają być dokładne, układa w wierszach\n",
    "print(tensor4)\n",
    "print(f\"Tensor shape:{tensor4.shape}\\n\")"
   ]
  },
  {
   "cell_type": "code",
   "execution_count": 14,
   "metadata": {
    "ExecuteTime": {
     "end_time": "2021-10-28T22:15:34.991164Z",
     "start_time": "2021-10-28T22:15:34.975167Z"
    }
   },
   "outputs": [
    {
     "data": {
      "text/plain": [
       "tensor([1., 1., 1., 1., 1., 1., 1., 1., 1., 1.])"
      ]
     },
     "execution_count": 14,
     "metadata": {},
     "output_type": "execute_result"
    }
   ],
   "source": [
    "sq1 = tensor3.squeeze()  # usuwa wszystkie wymiary, które mają wartość 1\n",
    "sq2 = tensor3.squeeze(dim=1)  # speyfikujemy\n",
    "sq1"
   ]
  },
  {
   "cell_type": "code",
   "execution_count": 15,
   "metadata": {
    "ExecuteTime": {
     "end_time": "2021-10-28T22:15:35.460080Z",
     "start_time": "2021-10-28T22:15:35.453115Z"
    }
   },
   "outputs": [
    {
     "data": {
      "text/plain": [
       "tensor([1., 1., 1., 1., 1., 1., 1., 1., 1., 1.])"
      ]
     },
     "execution_count": 15,
     "metadata": {},
     "output_type": "execute_result"
    }
   ],
   "source": [
    "sq2"
   ]
  },
  {
   "cell_type": "markdown",
   "metadata": {},
   "source": [
    "#### Łączenie tensorów"
   ]
  },
  {
   "cell_type": "code",
   "execution_count": 16,
   "metadata": {
    "ExecuteTime": {
     "end_time": "2021-10-28T22:15:37.787135Z",
     "start_time": "2021-10-28T22:15:37.779135Z"
    }
   },
   "outputs": [
    {
     "name": "stdout",
     "output_type": "stream",
     "text": [
      "tensor([[1., 0., 1., 1., 1., 0., 1., 1., 1., 0., 1., 1.],\n",
      "        [1., 0., 1., 1., 1., 0., 1., 1., 1., 0., 1., 1.],\n",
      "        [1., 0., 1., 1., 1., 0., 1., 1., 1., 0., 1., 1.],\n",
      "        [1., 0., 1., 1., 1., 0., 1., 1., 1., 0., 1., 1.]])\n"
     ]
    }
   ],
   "source": [
    "tensor = torch.ones(4, 4)\n",
    "tensor[:, 1] = 0\n",
    "t1 = torch.cat([tensor, tensor, tensor],\n",
    "               dim=1)  # laczenie tensorow wraz z podawanym wymiarem\n",
    "print(t1)"
   ]
  },
  {
   "cell_type": "code",
   "execution_count": 17,
   "metadata": {
    "ExecuteTime": {
     "end_time": "2021-10-28T22:15:38.964068Z",
     "start_time": "2021-10-28T22:15:38.959068Z"
    }
   },
   "outputs": [
    {
     "name": "stdout",
     "output_type": "stream",
     "text": [
      "tensor([[1., 0., 1., 1.],\n",
      "        [1., 0., 1., 1.],\n",
      "        [1., 0., 1., 1.],\n",
      "        [1., 0., 1., 1.],\n",
      "        [1., 0., 1., 1.],\n",
      "        [1., 0., 1., 1.],\n",
      "        [1., 0., 1., 1.],\n",
      "        [1., 0., 1., 1.],\n",
      "        [1., 0., 1., 1.],\n",
      "        [1., 0., 1., 1.],\n",
      "        [1., 0., 1., 1.],\n",
      "        [1., 0., 1., 1.]])\n"
     ]
    }
   ],
   "source": [
    "t1 = torch.cat([tensor, tensor, tensor], dim=0)\n",
    "print(t1)"
   ]
  },
  {
   "cell_type": "code",
   "execution_count": 18,
   "metadata": {
    "ExecuteTime": {
     "end_time": "2021-10-28T22:15:39.402432Z",
     "start_time": "2021-10-28T22:15:39.394432Z"
    }
   },
   "outputs": [
    {
     "name": "stdout",
     "output_type": "stream",
     "text": [
      "tensor([[[1., 0., 1., 1.],\n",
      "         [1., 0., 1., 1.],\n",
      "         [1., 0., 1., 1.],\n",
      "         [1., 0., 1., 1.]],\n",
      "\n",
      "        [[1., 0., 1., 1.],\n",
      "         [1., 0., 1., 1.],\n",
      "         [1., 0., 1., 1.],\n",
      "         [1., 0., 1., 1.]],\n",
      "\n",
      "        [[1., 0., 1., 1.],\n",
      "         [1., 0., 1., 1.],\n",
      "         [1., 0., 1., 1.],\n",
      "         [1., 0., 1., 1.]]])\n"
     ]
    }
   ],
   "source": [
    "t1 = torch.stack([tensor, tensor, tensor])\n",
    "print(t1)"
   ]
  },
  {
   "cell_type": "code",
   "execution_count": 19,
   "metadata": {
    "ExecuteTime": {
     "end_time": "2021-10-28T22:15:41.029669Z",
     "start_time": "2021-10-28T22:15:41.012671Z"
    }
   },
   "outputs": [
    {
     "name": "stdout",
     "output_type": "stream",
     "text": [
      "torch.Size([3, 4, 4])\n",
      "torch.Size([4, 3, 4])\n",
      "torch.Size([4, 4, 3])\n"
     ]
    }
   ],
   "source": [
    "t1 = torch.stack([tensor, tensor, tensor], dim=0)\n",
    "print(t1.shape)\n",
    "t1 = torch.stack([tensor, tensor, tensor], dim=1)\n",
    "print(t1.shape)\n",
    "t1 = torch.stack([tensor, tensor, tensor], dim=2)\n",
    "print(t1.shape)"
   ]
  },
  {
   "cell_type": "code",
   "execution_count": 20,
   "metadata": {
    "ExecuteTime": {
     "end_time": "2021-10-28T22:15:42.081448Z",
     "start_time": "2021-10-28T22:15:41.809449Z"
    }
   },
   "outputs": [
    {
     "ename": "IndexError",
     "evalue": "Dimension out of range (expected to be in range of [-3, 2], but got 3)",
     "output_type": "error",
     "traceback": [
      "\u001b[1;31m---------------------------------------------------------------------------\u001b[0m",
      "\u001b[1;31mIndexError\u001b[0m                                Traceback (most recent call last)",
      "\u001b[1;32m~\\AppData\\Local\\Temp/ipykernel_14964/1266064481.py\u001b[0m in \u001b[0;36m<module>\u001b[1;34m\u001b[0m\n\u001b[1;32m----> 1\u001b[1;33m \u001b[0mt1\u001b[0m \u001b[1;33m=\u001b[0m \u001b[0mtorch\u001b[0m\u001b[1;33m.\u001b[0m\u001b[0mstack\u001b[0m\u001b[1;33m(\u001b[0m\u001b[1;33m[\u001b[0m\u001b[0mtensor\u001b[0m\u001b[1;33m,\u001b[0m \u001b[0mtensor\u001b[0m\u001b[1;33m,\u001b[0m \u001b[0mtensor\u001b[0m\u001b[1;33m]\u001b[0m\u001b[1;33m,\u001b[0m\u001b[0mdim\u001b[0m\u001b[1;33m=\u001b[0m\u001b[1;36m3\u001b[0m\u001b[1;33m)\u001b[0m\u001b[1;33m\u001b[0m\u001b[1;33m\u001b[0m\u001b[0m\n\u001b[0m\u001b[0;32m      2\u001b[0m \u001b[0mprint\u001b[0m\u001b[1;33m(\u001b[0m\u001b[0mt1\u001b[0m\u001b[1;33m.\u001b[0m\u001b[0mshape\u001b[0m\u001b[1;33m)\u001b[0m\u001b[1;33m\u001b[0m\u001b[1;33m\u001b[0m\u001b[0m\n",
      "\u001b[1;31mIndexError\u001b[0m: Dimension out of range (expected to be in range of [-3, 2], but got 3)"
     ]
    }
   ],
   "source": [
    "t1 = torch.stack([tensor, tensor, tensor], dim=3)\n",
    "print(t1.shape)"
   ]
  },
  {
   "cell_type": "markdown",
   "metadata": {},
   "source": [
    "#### Operacje arytmetyczne"
   ]
  },
  {
   "cell_type": "code",
   "execution_count": 21,
   "metadata": {
    "ExecuteTime": {
     "end_time": "2021-10-28T22:15:43.373293Z",
     "start_time": "2021-10-28T22:15:43.350294Z"
    }
   },
   "outputs": [
    {
     "name": "stdout",
     "output_type": "stream",
     "text": [
      "tensor([[1., 0., 1., 1.],\n",
      "        [1., 0., 1., 1.],\n",
      "        [1., 0., 1., 1.],\n",
      "        [1., 0., 1., 1.]])\n",
      "tensor([[3., 2., 3., 3.],\n",
      "        [3., 2., 3., 3.],\n",
      "        [3., 2., 3., 3.],\n",
      "        [3., 2., 3., 3.]])\n",
      "tensor([[5., 0., 5., 5.],\n",
      "        [5., 0., 5., 5.],\n",
      "        [5., 0., 5., 5.],\n",
      "        [5., 0., 5., 5.]])\n"
     ]
    }
   ],
   "source": [
    "print(tensor)\n",
    "print(tensor + 2)\n",
    "print(tensor * 5)"
   ]
  },
  {
   "cell_type": "markdown",
   "metadata": {},
   "source": [
    "#### Operacje na elementach"
   ]
  },
  {
   "cell_type": "code",
   "execution_count": 22,
   "metadata": {
    "ExecuteTime": {
     "end_time": "2021-10-28T22:15:45.722738Z",
     "start_time": "2021-10-28T22:15:45.714772Z"
    }
   },
   "outputs": [
    {
     "data": {
      "text/plain": [
       "tensor([[1., 0., 1., 1.],\n",
       "        [1., 0., 1., 1.],\n",
       "        [1., 0., 1., 1.],\n",
       "        [1., 0., 1., 1.]])"
      ]
     },
     "execution_count": 22,
     "metadata": {},
     "output_type": "execute_result"
    }
   ],
   "source": [
    "tensor * tensor"
   ]
  },
  {
   "cell_type": "code",
   "execution_count": 23,
   "metadata": {
    "ExecuteTime": {
     "end_time": "2021-10-28T22:15:49.118548Z",
     "start_time": "2021-10-28T22:15:49.100116Z"
    }
   },
   "outputs": [
    {
     "data": {
      "text/plain": [
       "tensor([[2., 0., 2., 2.],\n",
       "        [2., 0., 2., 2.],\n",
       "        [2., 0., 2., 2.],\n",
       "        [2., 0., 2., 2.]])"
      ]
     },
     "execution_count": 23,
     "metadata": {},
     "output_type": "execute_result"
    }
   ],
   "source": [
    "tensor + tensor"
   ]
  },
  {
   "cell_type": "code",
   "execution_count": 24,
   "metadata": {
    "ExecuteTime": {
     "end_time": "2021-10-28T22:15:50.416844Z",
     "start_time": "2021-10-28T22:15:50.404841Z"
    }
   },
   "outputs": [
    {
     "name": "stdout",
     "output_type": "stream",
     "text": [
      "tensor([[3.6828, 0.5572, 5.2536, 9.9663],\n",
      "        [1.0925, 0.3016, 5.9223, 4.3969],\n",
      "        [1.8258, 0.1892, 3.6060, 8.8096],\n",
      "        [6.6840, 4.9505, 1.9236, 1.5511]])\n",
      "tensor([[3.6828,    inf, 5.2536, 9.9663],\n",
      "        [1.0925,    inf, 5.9223, 4.3969],\n",
      "        [1.8258,    inf, 3.6060, 8.8096],\n",
      "        [6.6840,    inf, 1.9236, 1.5511]])\n"
     ]
    }
   ],
   "source": [
    "rand_tensor = torch.rand(4, 4) * 10\n",
    "print(rand_tensor)\n",
    "print(rand_tensor / tensor)"
   ]
  },
  {
   "cell_type": "code",
   "execution_count": 26,
   "metadata": {
    "ExecuteTime": {
     "end_time": "2021-10-28T22:16:49.058280Z",
     "start_time": "2021-10-28T22:16:49.045280Z"
    }
   },
   "outputs": [
    {
     "name": "stdout",
     "output_type": "stream",
     "text": [
      "tensor([[4., inf, 0., 2.],\n",
      "        [1., inf, 0., 1.],\n",
      "        [3., inf, 1., 8.],\n",
      "        [7., inf, 1., 1.]])\n",
      "torch.FloatTensor\n"
     ]
    }
   ],
   "source": [
    "rand_tensor = torch.rand(4, 4) * 10\n",
    "print(rand_tensor // tensor)\n",
    "print(torch.div(rand_tensor, tensor).type())"
   ]
  },
  {
   "cell_type": "markdown",
   "metadata": {},
   "source": [
    "### Małe zadanie"
   ]
  },
  {
   "cell_type": "markdown",
   "metadata": {},
   "source": [
    "+ Stwórz kwadratową macierz dwuwymiarową której wartości będą kolejnymi numerami od 1 do zadanej liczby x. Możesz założyć że pierwiastek kwadratowy z x jest liczbą całkowitą np. dla x=16 powinniśmy otrzymać wyjście. (Pętle są fujka :/ i zabronione)"
   ]
  },
  {
   "cell_type": "raw",
   "metadata": {},
   "source": [
    "tensor([[ 1,  2,  3,  4],\n",
    "        [ 5,  6,  7,  8],\n",
    "        [ 9, 10, 11, 12],\n",
    "        [13, 14, 15, 16]])"
   ]
  },
  {
   "cell_type": "code",
   "execution_count": 31,
   "metadata": {
    "ExecuteTime": {
     "end_time": "2021-10-28T22:17:21.070906Z",
     "start_time": "2021-10-28T22:17:21.065927Z"
    }
   },
   "outputs": [],
   "source": [
    "def create_tens(x):\n",
    "    t1 = torch.linspace(1, x, x)\n",
    "    t1 = t1.view((int(np.sqrt(x)), int(np.sqrt(x))))\n",
    "    return t1"
   ]
  },
  {
   "cell_type": "code",
   "execution_count": 33,
   "metadata": {
    "ExecuteTime": {
     "end_time": "2021-10-28T22:17:35.167208Z",
     "start_time": "2021-10-28T22:17:35.155211Z"
    }
   },
   "outputs": [
    {
     "data": {
      "text/plain": [
       "tensor([[ 1.,  2.,  3.,  4.],\n",
       "        [ 5.,  6.,  7.,  8.],\n",
       "        [ 9., 10., 11., 12.],\n",
       "        [13., 14., 15., 16.]])"
      ]
     },
     "execution_count": 33,
     "metadata": {},
     "output_type": "execute_result"
    }
   ],
   "source": [
    "create_tens(16)"
   ]
  },
  {
   "cell_type": "markdown",
   "metadata": {},
   "source": [
    "### Operacje macierzowe"
   ]
  },
  {
   "cell_type": "code",
   "execution_count": 34,
   "metadata": {
    "ExecuteTime": {
     "end_time": "2021-10-28T22:17:36.495108Z",
     "start_time": "2021-10-28T22:17:36.482109Z"
    }
   },
   "outputs": [
    {
     "name": "stdout",
     "output_type": "stream",
     "text": [
      "tensor([[1., 1., 1.],\n",
      "        [0., 0., 0.],\n",
      "        [1., 1., 1.],\n",
      "        [1., 1., 1.]])\n",
      "tensor([[1., 0., 1., 1.],\n",
      "        [1., 0., 1., 1.],\n",
      "        [1., 0., 1., 1.]])\n"
     ]
    }
   ],
   "source": [
    "tensor = torch.ones(4, 3)\n",
    "tensor[1, :] = 0\n",
    "print(tensor)\n",
    "print(tensor.T)"
   ]
  },
  {
   "cell_type": "code",
   "execution_count": 35,
   "metadata": {
    "ExecuteTime": {
     "end_time": "2021-10-28T22:17:37.447131Z",
     "start_time": "2021-10-28T22:17:37.435132Z"
    }
   },
   "outputs": [
    {
     "name": "stdout",
     "output_type": "stream",
     "text": [
      "tensor([[3., 0., 3., 3.],\n",
      "        [0., 0., 0., 0.],\n",
      "        [3., 0., 3., 3.],\n",
      "        [3., 0., 3., 3.]]) \n",
      "\n",
      "tensor([[3., 0., 3., 3.],\n",
      "        [0., 0., 0., 0.],\n",
      "        [3., 0., 3., 3.],\n",
      "        [3., 0., 3., 3.]])\n"
     ]
    }
   ],
   "source": [
    "y1 = tensor.matmul(tensor.T)\n",
    "print(y1, \"\\n\")\n",
    "y2 = tensor @ tensor.T\n",
    "print(y2)"
   ]
  },
  {
   "cell_type": "markdown",
   "metadata": {},
   "source": [
    "### Przykład operacji macierzowych - regresja"
   ]
  },
  {
   "cell_type": "markdown",
   "metadata": {},
   "source": [
    "Dla wszystkich którzy potrzebują powtórki z matmy: https://mml-book.github.io/"
   ]
  },
  {
   "cell_type": "code",
   "execution_count": 36,
   "metadata": {
    "ExecuteTime": {
     "end_time": "2021-10-28T22:17:39.371461Z",
     "start_time": "2021-10-28T22:17:39.353494Z"
    }
   },
   "outputs": [],
   "source": [
    "apples_kg_ordered = [2, 4, 7, 3, 13]\n",
    "plums_kg_ordered = [3, 8, 9, 1, 1]\n",
    "prices = [11.97, 28.05, 38.98, 10.96, 41.1]"
   ]
  },
  {
   "cell_type": "code",
   "execution_count": 37,
   "metadata": {
    "ExecuteTime": {
     "end_time": "2021-10-28T22:17:39.684322Z",
     "start_time": "2021-10-28T22:17:39.673323Z"
    }
   },
   "outputs": [
    {
     "name": "stdout",
     "output_type": "stream",
     "text": [
      "tensor([[ 2,  4,  7,  3, 13],\n",
      "        [ 3,  8,  9,  1,  1]])\n",
      "tensor([11.9700, 28.0500, 38.9800, 10.9600, 41.1000])\n"
     ]
    }
   ],
   "source": [
    "X = torch.tensor([apples_kg_ordered, plums_kg_ordered])\n",
    "Y = torch.tensor(prices)\n",
    "print(X)\n",
    "print(Y)"
   ]
  },
  {
   "cell_type": "code",
   "execution_count": 38,
   "metadata": {
    "ExecuteTime": {
     "end_time": "2021-10-28T22:17:40.520643Z",
     "start_time": "2021-10-28T22:17:40.500643Z"
    },
    "scrolled": true
   },
   "outputs": [
    {
     "data": {
      "text/plain": [
       "tensor([[ 2.,  3.],\n",
       "        [ 4.,  8.],\n",
       "        [ 7.,  9.],\n",
       "        [ 3.,  1.],\n",
       "        [13.,  1.]])"
      ]
     },
     "execution_count": 38,
     "metadata": {},
     "output_type": "execute_result"
    }
   ],
   "source": [
    "X = X.T.float()\n",
    "Y = Y.T\n",
    "X"
   ]
  },
  {
   "cell_type": "code",
   "execution_count": 39,
   "metadata": {
    "ExecuteTime": {
     "end_time": "2021-10-28T22:17:40.773021Z",
     "start_time": "2021-10-28T22:17:40.756023Z"
    }
   },
   "outputs": [
    {
     "data": {
      "text/plain": [
       "tensor([11.9700, 28.0500, 38.9800, 10.9600, 41.1000])"
      ]
     },
     "execution_count": 39,
     "metadata": {},
     "output_type": "execute_result"
    }
   ],
   "source": [
    "Y"
   ]
  },
  {
   "cell_type": "code",
   "execution_count": 40,
   "metadata": {
    "ExecuteTime": {
     "end_time": "2021-10-28T22:17:41.635671Z",
     "start_time": "2021-10-28T22:17:41.611678Z"
    }
   },
   "outputs": [
    {
     "data": {
      "text/plain": [
       "tensor([3.0065, 1.9963])"
      ]
     },
     "execution_count": 40,
     "metadata": {},
     "output_type": "execute_result"
    }
   ],
   "source": [
    "theta = torch.inverse((X.T @ X)) @ X.T @ Y\n",
    "theta"
   ]
  },
  {
   "cell_type": "code",
   "execution_count": 41,
   "metadata": {
    "ExecuteTime": {
     "end_time": "2021-10-28T22:17:42.059431Z",
     "start_time": "2021-10-28T22:17:42.048439Z"
    }
   },
   "outputs": [
    {
     "data": {
      "text/plain": [
       "tensor([12.0020, 27.9967, 39.0126, 11.0159, 41.0810])"
      ]
     },
     "execution_count": 41,
     "metadata": {},
     "output_type": "execute_result"
    }
   ],
   "source": [
    "X @ theta"
   ]
  },
  {
   "cell_type": "markdown",
   "metadata": {},
   "source": [
    "## Automatyczne obliczanie gradientu w PyTorch"
   ]
  },
  {
   "cell_type": "markdown",
   "metadata": {},
   "source": [
    "+ Do automatycznego obliczania gradientu służy wbudowany pakiet torch.autograd, który umożliwia automatyczne obliczanie gradientu dla dowolnego grafu (ciągu obliczeń)"
   ]
  },
  {
   "cell_type": "code",
   "execution_count": 42,
   "metadata": {
    "ExecuteTime": {
     "end_time": "2021-10-28T22:17:44.034805Z",
     "start_time": "2021-10-28T22:17:44.023805Z"
    }
   },
   "outputs": [
    {
     "name": "stdout",
     "output_type": "stream",
     "text": [
      "tensor([1., 1., 1., 1., 1.], requires_grad=True)\n"
     ]
    }
   ],
   "source": [
    "x = torch.ones(5, requires_grad=True)\n",
    "print(x)"
   ]
  },
  {
   "cell_type": "code",
   "execution_count": 43,
   "metadata": {
    "ExecuteTime": {
     "end_time": "2021-10-28T22:17:44.892764Z",
     "start_time": "2021-10-28T22:17:44.880761Z"
    }
   },
   "outputs": [
    {
     "data": {
      "text/plain": [
       "tensor([3., 3., 3., 3., 3.], grad_fn=<AddBackward0>)"
      ]
     },
     "execution_count": 43,
     "metadata": {},
     "output_type": "execute_result"
    }
   ],
   "source": [
    "y = x + 2\n",
    "y"
   ]
  },
  {
   "cell_type": "code",
   "execution_count": 44,
   "metadata": {
    "ExecuteTime": {
     "end_time": "2021-10-28T22:17:45.083727Z",
     "start_time": "2021-10-28T22:17:45.063732Z"
    }
   },
   "outputs": [
    {
     "data": {
      "text/plain": [
       "tensor([2., 2., 2., 2., 2.], grad_fn=<MulBackward0>)"
      ]
     },
     "execution_count": 44,
     "metadata": {},
     "output_type": "execute_result"
    }
   ],
   "source": [
    "y = x * 2\n",
    "y"
   ]
  },
  {
   "cell_type": "code",
   "execution_count": 45,
   "metadata": {
    "ExecuteTime": {
     "end_time": "2021-10-28T22:17:45.243794Z",
     "start_time": "2021-10-28T22:17:45.222794Z"
    }
   },
   "outputs": [
    {
     "data": {
      "text/plain": [
       "tensor(5., grad_fn=<DotBackward>)"
      ]
     },
     "execution_count": 45,
     "metadata": {},
     "output_type": "execute_result"
    }
   ],
   "source": [
    "y = x @ x.T\n",
    "y"
   ]
  },
  {
   "cell_type": "code",
   "execution_count": 46,
   "metadata": {
    "ExecuteTime": {
     "end_time": "2021-10-28T22:17:46.140512Z",
     "start_time": "2021-10-28T22:17:46.122480Z"
    }
   },
   "outputs": [
    {
     "data": {
      "text/plain": [
       "tensor([-1., -1., -1., -1., -1.], grad_fn=<SubBackward0>)"
      ]
     },
     "execution_count": 46,
     "metadata": {},
     "output_type": "execute_result"
    }
   ],
   "source": [
    "y = x - 2\n",
    "y"
   ]
  },
  {
   "cell_type": "code",
   "execution_count": 47,
   "metadata": {
    "ExecuteTime": {
     "end_time": "2021-10-28T22:17:46.313744Z",
     "start_time": "2021-10-28T22:17:46.306749Z"
    }
   },
   "outputs": [
    {
     "data": {
      "text/plain": [
       "<AccumulateGrad at 0x2651e463dc0>"
      ]
     },
     "execution_count": 47,
     "metadata": {},
     "output_type": "execute_result"
    }
   ],
   "source": [
    "y.grad_fn.next_functions[0][0]"
   ]
  },
  {
   "cell_type": "code",
   "execution_count": 48,
   "metadata": {
    "ExecuteTime": {
     "end_time": "2021-10-28T22:17:46.471778Z",
     "start_time": "2021-10-28T22:17:46.465745Z"
    }
   },
   "outputs": [
    {
     "data": {
      "text/plain": [
       "tensor([1., 1., 1., 1., 1.], requires_grad=True)"
      ]
     },
     "execution_count": 48,
     "metadata": {},
     "output_type": "execute_result"
    }
   ],
   "source": [
    "y.grad_fn.next_functions[0][0].variable"
   ]
  },
  {
   "cell_type": "code",
   "execution_count": 49,
   "metadata": {
    "ExecuteTime": {
     "end_time": "2021-10-28T22:17:47.380412Z",
     "start_time": "2021-10-28T22:17:47.370427Z"
    }
   },
   "outputs": [],
   "source": [
    "z = y * y * 3"
   ]
  },
  {
   "cell_type": "code",
   "execution_count": 50,
   "metadata": {
    "ExecuteTime": {
     "end_time": "2021-10-28T22:17:47.570397Z",
     "start_time": "2021-10-28T22:17:47.553434Z"
    }
   },
   "outputs": [
    {
     "name": "stdout",
     "output_type": "stream",
     "text": [
      "tensor([3., 3., 3., 3., 3.], grad_fn=<MulBackward0>)\n",
      "tensor(3., grad_fn=<MeanBackward0>)\n"
     ]
    }
   ],
   "source": [
    "a = z.mean()\n",
    "print(z)\n",
    "print(a)"
   ]
  },
  {
   "cell_type": "code",
   "execution_count": 51,
   "metadata": {
    "ExecuteTime": {
     "end_time": "2021-10-28T22:17:47.759769Z",
     "start_time": "2021-10-28T22:17:47.740772Z"
    }
   },
   "outputs": [
    {
     "data": {
      "text/plain": [
       "((<AccumulateGrad at 0x2651e463dc0>, 0), (None, 0))"
      ]
     },
     "execution_count": 51,
     "metadata": {},
     "output_type": "execute_result"
    }
   ],
   "source": [
    "y.grad_fn.next_functions"
   ]
  },
  {
   "cell_type": "markdown",
   "metadata": {},
   "source": [
    "+ Zwizualizowanie grafu obliczeń:"
   ]
  },
  {
   "cell_type": "code",
   "execution_count": 52,
   "metadata": {
    "ExecuteTime": {
     "end_time": "2021-10-28T22:17:48.921441Z",
     "start_time": "2021-10-28T22:17:48.898442Z"
    }
   },
   "outputs": [],
   "source": [
    "from torchviz import make_dot"
   ]
  },
  {
   "cell_type": "code",
   "execution_count": 53,
   "metadata": {
    "ExecuteTime": {
     "end_time": "2021-10-28T22:17:49.661350Z",
     "start_time": "2021-10-28T22:17:49.405064Z"
    }
   },
   "outputs": [
    {
     "data": {
      "image/svg+xml": [
       "<?xml version=\"1.0\" encoding=\"UTF-8\" standalone=\"no\"?>\r\n",
       "<!DOCTYPE svg PUBLIC \"-//W3C//DTD SVG 1.1//EN\"\r\n",
       " \"http://www.w3.org/Graphics/SVG/1.1/DTD/svg11.dtd\">\r\n",
       "<!-- Generated by graphviz version 2.49.1 (20210923.0004)\r\n",
       " -->\r\n",
       "<!-- Pages: 1 -->\r\n",
       "<svg width=\"109pt\" height=\"381pt\"\r\n",
       " viewBox=\"0.00 0.00 109.00 381.00\" xmlns=\"http://www.w3.org/2000/svg\" xmlns:xlink=\"http://www.w3.org/1999/xlink\">\r\n",
       "<g id=\"graph0\" class=\"graph\" transform=\"scale(1 1) rotate(0) translate(4 377)\">\r\n",
       "<polygon fill=\"white\" stroke=\"transparent\" points=\"-4,4 -4,-377 105,-377 105,4 -4,4\"/>\r\n",
       "<!-- 2633322089536 -->\r\n",
       "<g id=\"node1\" class=\"node\">\r\n",
       "<title>2633322089536</title>\r\n",
       "<polygon fill=\"#caff70\" stroke=\"black\" points=\"77.5,-31 23.5,-31 23.5,0 77.5,0 77.5,-31\"/>\r\n",
       "<text text-anchor=\"middle\" x=\"50.5\" y=\"-7\" font-family=\"monospace\" font-size=\"10.00\"> ()</text>\r\n",
       "</g>\r\n",
       "<!-- 2633322871296 -->\r\n",
       "<g id=\"node2\" class=\"node\">\r\n",
       "<title>2633322871296</title>\r\n",
       "<polygon fill=\"lightgrey\" stroke=\"black\" points=\"98,-86 3,-86 3,-67 98,-67 98,-86\"/>\r\n",
       "<text text-anchor=\"middle\" x=\"50.5\" y=\"-74\" font-family=\"monospace\" font-size=\"10.00\">MeanBackward0</text>\r\n",
       "</g>\r\n",
       "<!-- 2633322871296&#45;&gt;2633322089536 -->\r\n",
       "<g id=\"edge7\" class=\"edge\">\r\n",
       "<title>2633322871296&#45;&gt;2633322089536</title>\r\n",
       "<path fill=\"none\" stroke=\"black\" d=\"M50.5,-66.79C50.5,-60.07 50.5,-50.4 50.5,-41.34\"/>\r\n",
       "<polygon fill=\"black\" stroke=\"black\" points=\"54,-41.19 50.5,-31.19 47,-41.19 54,-41.19\"/>\r\n",
       "</g>\r\n",
       "<!-- 2633322872208 -->\r\n",
       "<g id=\"node3\" class=\"node\">\r\n",
       "<title>2633322872208</title>\r\n",
       "<polygon fill=\"lightgrey\" stroke=\"black\" points=\"95,-141 6,-141 6,-122 95,-122 95,-141\"/>\r\n",
       "<text text-anchor=\"middle\" x=\"50.5\" y=\"-129\" font-family=\"monospace\" font-size=\"10.00\">MulBackward0</text>\r\n",
       "</g>\r\n",
       "<!-- 2633322872208&#45;&gt;2633322871296 -->\r\n",
       "<g id=\"edge1\" class=\"edge\">\r\n",
       "<title>2633322872208&#45;&gt;2633322871296</title>\r\n",
       "<path fill=\"none\" stroke=\"black\" d=\"M50.5,-121.75C50.5,-114.8 50.5,-104.85 50.5,-96.13\"/>\r\n",
       "<polygon fill=\"black\" stroke=\"black\" points=\"54,-96.09 50.5,-86.09 47,-96.09 54,-96.09\"/>\r\n",
       "</g>\r\n",
       "<!-- 2633320018944 -->\r\n",
       "<g id=\"node4\" class=\"node\">\r\n",
       "<title>2633320018944</title>\r\n",
       "<polygon fill=\"lightgrey\" stroke=\"black\" points=\"95,-196 6,-196 6,-177 95,-177 95,-196\"/>\r\n",
       "<text text-anchor=\"middle\" x=\"50.5\" y=\"-184\" font-family=\"monospace\" font-size=\"10.00\">MulBackward0</text>\r\n",
       "</g>\r\n",
       "<!-- 2633320018944&#45;&gt;2633322872208 -->\r\n",
       "<g id=\"edge2\" class=\"edge\">\r\n",
       "<title>2633320018944&#45;&gt;2633322872208</title>\r\n",
       "<path fill=\"none\" stroke=\"black\" d=\"M50.5,-176.75C50.5,-169.8 50.5,-159.85 50.5,-151.13\"/>\r\n",
       "<polygon fill=\"black\" stroke=\"black\" points=\"54,-151.09 50.5,-141.09 47,-151.09 54,-151.09\"/>\r\n",
       "</g>\r\n",
       "<!-- 2633334351520 -->\r\n",
       "<g id=\"node5\" class=\"node\">\r\n",
       "<title>2633334351520</title>\r\n",
       "<polygon fill=\"lightgrey\" stroke=\"black\" points=\"95,-251 6,-251 6,-232 95,-232 95,-251\"/>\r\n",
       "<text text-anchor=\"middle\" x=\"50.5\" y=\"-239\" font-family=\"monospace\" font-size=\"10.00\">SubBackward0</text>\r\n",
       "</g>\r\n",
       "<!-- 2633334351520&#45;&gt;2633320018944 -->\r\n",
       "<g id=\"edge3\" class=\"edge\">\r\n",
       "<title>2633334351520&#45;&gt;2633320018944</title>\r\n",
       "<path fill=\"none\" stroke=\"black\" d=\"M45.33,-231.75C43.84,-224.8 43.4,-214.85 44.02,-206.13\"/>\r\n",
       "<polygon fill=\"black\" stroke=\"black\" points=\"47.51,-206.47 45.37,-196.09 40.57,-205.53 47.51,-206.47\"/>\r\n",
       "</g>\r\n",
       "<!-- 2633334351520&#45;&gt;2633320018944 -->\r\n",
       "<g id=\"edge6\" class=\"edge\">\r\n",
       "<title>2633334351520&#45;&gt;2633320018944</title>\r\n",
       "<path fill=\"none\" stroke=\"black\" d=\"M55.67,-231.75C57.16,-224.8 57.6,-214.85 56.98,-206.13\"/>\r\n",
       "<polygon fill=\"black\" stroke=\"black\" points=\"60.43,-205.53 55.63,-196.09 53.49,-206.47 60.43,-205.53\"/>\r\n",
       "</g>\r\n",
       "<!-- 2633322872256 -->\r\n",
       "<g id=\"node6\" class=\"node\">\r\n",
       "<title>2633322872256</title>\r\n",
       "<polygon fill=\"lightgrey\" stroke=\"black\" points=\"101,-306 0,-306 0,-287 101,-287 101,-306\"/>\r\n",
       "<text text-anchor=\"middle\" x=\"50.5\" y=\"-294\" font-family=\"monospace\" font-size=\"10.00\">AccumulateGrad</text>\r\n",
       "</g>\r\n",
       "<!-- 2633322872256&#45;&gt;2633334351520 -->\r\n",
       "<g id=\"edge4\" class=\"edge\">\r\n",
       "<title>2633322872256&#45;&gt;2633334351520</title>\r\n",
       "<path fill=\"none\" stroke=\"black\" d=\"M50.5,-286.75C50.5,-279.8 50.5,-269.85 50.5,-261.13\"/>\r\n",
       "<polygon fill=\"black\" stroke=\"black\" points=\"54,-261.09 50.5,-251.09 47,-261.09 54,-261.09\"/>\r\n",
       "</g>\r\n",
       "<!-- 2633323641664 -->\r\n",
       "<g id=\"node7\" class=\"node\">\r\n",
       "<title>2633323641664</title>\r\n",
       "<polygon fill=\"lightblue\" stroke=\"black\" points=\"77.5,-373 23.5,-373 23.5,-342 77.5,-342 77.5,-373\"/>\r\n",
       "<text text-anchor=\"middle\" x=\"50.5\" y=\"-349\" font-family=\"monospace\" font-size=\"10.00\"> (5)</text>\r\n",
       "</g>\r\n",
       "<!-- 2633323641664&#45;&gt;2633322872256 -->\r\n",
       "<g id=\"edge5\" class=\"edge\">\r\n",
       "<title>2633323641664&#45;&gt;2633322872256</title>\r\n",
       "<path fill=\"none\" stroke=\"black\" d=\"M50.5,-341.92C50.5,-334.22 50.5,-324.69 50.5,-316.43\"/>\r\n",
       "<polygon fill=\"black\" stroke=\"black\" points=\"54,-316.25 50.5,-306.25 47,-316.25 54,-316.25\"/>\r\n",
       "</g>\r\n",
       "</g>\r\n",
       "</svg>\r\n"
      ],
      "text/plain": [
       "<graphviz.dot.Digraph at 0x2651e1ab640>"
      ]
     },
     "execution_count": 53,
     "metadata": {},
     "output_type": "execute_result"
    }
   ],
   "source": [
    "make_dot(a)"
   ]
  },
  {
   "cell_type": "markdown",
   "metadata": {},
   "source": [
    "### Propagacja wsteczna gradientu"
   ]
  },
  {
   "cell_type": "code",
   "execution_count": 54,
   "metadata": {
    "ExecuteTime": {
     "end_time": "2021-10-28T22:17:51.255130Z",
     "start_time": "2021-10-28T22:17:51.237117Z"
    }
   },
   "outputs": [
    {
     "name": "stdout",
     "output_type": "stream",
     "text": [
      "tensor([1.], requires_grad=True)\n"
     ]
    },
    {
     "data": {
      "text/plain": [
       "tensor([125.], grad_fn=<PowBackward0>)"
      ]
     },
     "execution_count": 54,
     "metadata": {},
     "output_type": "execute_result"
    }
   ],
   "source": [
    "x = torch.ones(1, requires_grad=True)\n",
    "print(x)\n",
    "y = (x + 4)**3\n",
    "y"
   ]
  },
  {
   "cell_type": "code",
   "execution_count": 55,
   "metadata": {
    "ExecuteTime": {
     "end_time": "2021-10-28T22:17:51.540372Z",
     "start_time": "2021-10-28T22:17:51.397114Z"
    }
   },
   "outputs": [
    {
     "data": {
      "image/svg+xml": [
       "<?xml version=\"1.0\" encoding=\"UTF-8\" standalone=\"no\"?>\r\n",
       "<!DOCTYPE svg PUBLIC \"-//W3C//DTD SVG 1.1//EN\"\r\n",
       " \"http://www.w3.org/Graphics/SVG/1.1/DTD/svg11.dtd\">\r\n",
       "<!-- Generated by graphviz version 2.49.1 (20210923.0004)\r\n",
       " -->\r\n",
       "<!-- Pages: 1 -->\r\n",
       "<svg width=\"109pt\" height=\"271pt\"\r\n",
       " viewBox=\"0.00 0.00 109.00 271.00\" xmlns=\"http://www.w3.org/2000/svg\" xmlns:xlink=\"http://www.w3.org/1999/xlink\">\r\n",
       "<g id=\"graph0\" class=\"graph\" transform=\"scale(1 1) rotate(0) translate(4 267)\">\r\n",
       "<polygon fill=\"white\" stroke=\"transparent\" points=\"-4,4 -4,-267 105,-267 105,4 -4,4\"/>\r\n",
       "<!-- 2633333127552 -->\r\n",
       "<g id=\"node1\" class=\"node\">\r\n",
       "<title>2633333127552</title>\r\n",
       "<polygon fill=\"#caff70\" stroke=\"black\" points=\"77.5,-31 23.5,-31 23.5,0 77.5,0 77.5,-31\"/>\r\n",
       "<text text-anchor=\"middle\" x=\"50.5\" y=\"-7\" font-family=\"monospace\" font-size=\"10.00\"> (1)</text>\r\n",
       "</g>\r\n",
       "<!-- 2633320603216 -->\r\n",
       "<g id=\"node2\" class=\"node\">\r\n",
       "<title>2633320603216</title>\r\n",
       "<polygon fill=\"lightgrey\" stroke=\"black\" points=\"95,-86 6,-86 6,-67 95,-67 95,-86\"/>\r\n",
       "<text text-anchor=\"middle\" x=\"50.5\" y=\"-74\" font-family=\"monospace\" font-size=\"10.00\">PowBackward0</text>\r\n",
       "</g>\r\n",
       "<!-- 2633320603216&#45;&gt;2633333127552 -->\r\n",
       "<g id=\"edge4\" class=\"edge\">\r\n",
       "<title>2633320603216&#45;&gt;2633333127552</title>\r\n",
       "<path fill=\"none\" stroke=\"black\" d=\"M50.5,-66.79C50.5,-60.07 50.5,-50.4 50.5,-41.34\"/>\r\n",
       "<polygon fill=\"black\" stroke=\"black\" points=\"54,-41.19 50.5,-31.19 47,-41.19 54,-41.19\"/>\r\n",
       "</g>\r\n",
       "<!-- 2633320602352 -->\r\n",
       "<g id=\"node3\" class=\"node\">\r\n",
       "<title>2633320602352</title>\r\n",
       "<polygon fill=\"lightgrey\" stroke=\"black\" points=\"95,-141 6,-141 6,-122 95,-122 95,-141\"/>\r\n",
       "<text text-anchor=\"middle\" x=\"50.5\" y=\"-129\" font-family=\"monospace\" font-size=\"10.00\">AddBackward0</text>\r\n",
       "</g>\r\n",
       "<!-- 2633320602352&#45;&gt;2633320603216 -->\r\n",
       "<g id=\"edge1\" class=\"edge\">\r\n",
       "<title>2633320602352&#45;&gt;2633320603216</title>\r\n",
       "<path fill=\"none\" stroke=\"black\" d=\"M50.5,-121.75C50.5,-114.8 50.5,-104.85 50.5,-96.13\"/>\r\n",
       "<polygon fill=\"black\" stroke=\"black\" points=\"54,-96.09 50.5,-86.09 47,-96.09 54,-96.09\"/>\r\n",
       "</g>\r\n",
       "<!-- 2633320602544 -->\r\n",
       "<g id=\"node4\" class=\"node\">\r\n",
       "<title>2633320602544</title>\r\n",
       "<polygon fill=\"lightgrey\" stroke=\"black\" points=\"101,-196 0,-196 0,-177 101,-177 101,-196\"/>\r\n",
       "<text text-anchor=\"middle\" x=\"50.5\" y=\"-184\" font-family=\"monospace\" font-size=\"10.00\">AccumulateGrad</text>\r\n",
       "</g>\r\n",
       "<!-- 2633320602544&#45;&gt;2633320602352 -->\r\n",
       "<g id=\"edge2\" class=\"edge\">\r\n",
       "<title>2633320602544&#45;&gt;2633320602352</title>\r\n",
       "<path fill=\"none\" stroke=\"black\" d=\"M50.5,-176.75C50.5,-169.8 50.5,-159.85 50.5,-151.13\"/>\r\n",
       "<polygon fill=\"black\" stroke=\"black\" points=\"54,-151.09 50.5,-141.09 47,-151.09 54,-151.09\"/>\r\n",
       "</g>\r\n",
       "<!-- 2633323589184 -->\r\n",
       "<g id=\"node5\" class=\"node\">\r\n",
       "<title>2633323589184</title>\r\n",
       "<polygon fill=\"lightblue\" stroke=\"black\" points=\"77.5,-263 23.5,-263 23.5,-232 77.5,-232 77.5,-263\"/>\r\n",
       "<text text-anchor=\"middle\" x=\"50.5\" y=\"-239\" font-family=\"monospace\" font-size=\"10.00\"> (1)</text>\r\n",
       "</g>\r\n",
       "<!-- 2633323589184&#45;&gt;2633320602544 -->\r\n",
       "<g id=\"edge3\" class=\"edge\">\r\n",
       "<title>2633323589184&#45;&gt;2633320602544</title>\r\n",
       "<path fill=\"none\" stroke=\"black\" d=\"M50.5,-231.92C50.5,-224.22 50.5,-214.69 50.5,-206.43\"/>\r\n",
       "<polygon fill=\"black\" stroke=\"black\" points=\"54,-206.25 50.5,-196.25 47,-206.25 54,-206.25\"/>\r\n",
       "</g>\r\n",
       "</g>\r\n",
       "</svg>\r\n"
      ],
      "text/plain": [
       "<graphviz.dot.Digraph at 0x2651e2399a0>"
      ]
     },
     "execution_count": 55,
     "metadata": {},
     "output_type": "execute_result"
    }
   ],
   "source": [
    "make_dot(y)"
   ]
  },
  {
   "cell_type": "code",
   "execution_count": 56,
   "metadata": {
    "ExecuteTime": {
     "end_time": "2021-10-28T22:17:51.633444Z",
     "start_time": "2021-10-28T22:17:51.601410Z"
    },
    "scrolled": true
   },
   "outputs": [
    {
     "data": {
      "text/plain": [
       "tensor([75.])"
      ]
     },
     "execution_count": 56,
     "metadata": {},
     "output_type": "execute_result"
    }
   ],
   "source": [
    "y.backward()\n",
    "x.grad"
   ]
  },
  {
   "cell_type": "markdown",
   "metadata": {},
   "source": [
    "### Obliczenia z pominięciem gradientów"
   ]
  },
  {
   "cell_type": "code",
   "execution_count": 57,
   "metadata": {
    "ExecuteTime": {
     "end_time": "2021-10-28T22:17:52.729927Z",
     "start_time": "2021-10-28T22:17:52.712896Z"
    }
   },
   "outputs": [
    {
     "name": "stdout",
     "output_type": "stream",
     "text": [
      "tensor([[0.1923, 0.7188, 0.6019],\n",
      "        [0.8556, 1.1538, 0.9481],\n",
      "        [0.9357, 1.1804, 1.0499]])\n",
      "tensor([[0.1923, 0.7188, 0.6019],\n",
      "        [0.8556, 1.1538, 0.9481],\n",
      "        [0.9357, 1.1804, 1.0499]], grad_fn=<MmBackward>)\n"
     ]
    }
   ],
   "source": [
    "t1 = torch.rand(3, 4, requires_grad=True)\n",
    "t2 = torch.rand(4, 3, requires_grad=True)\n",
    "with torch.no_grad():\n",
    "    y = t1 @ t2\n",
    "print(y)\n",
    "print(t1 @ t2)"
   ]
  },
  {
   "cell_type": "markdown",
   "metadata": {},
   "source": [
    "### Pochodna w punkcie dla wszystkich źródeł\n"
   ]
  },
  {
   "cell_type": "markdown",
   "metadata": {},
   "source": [
    "\n",
    "+ Funkcja backward pozwala nam policzyć pochodną cząstkową w punkcie dla wszystkich źródeł (liści w grafie obliczeń)"
   ]
  },
  {
   "cell_type": "code",
   "execution_count": 58,
   "metadata": {
    "ExecuteTime": {
     "end_time": "2021-10-28T22:17:54.111588Z",
     "start_time": "2021-10-28T22:17:54.108602Z"
    }
   },
   "outputs": [],
   "source": [
    "x = torch.ones(5)  # input tensor\n",
    "y = torch.zeros(3)  # expected output"
   ]
  },
  {
   "cell_type": "code",
   "execution_count": 59,
   "metadata": {
    "ExecuteTime": {
     "end_time": "2021-10-28T22:17:54.253418Z",
     "start_time": "2021-10-28T22:17:54.246419Z"
    }
   },
   "outputs": [],
   "source": [
    "w = torch.randn(5, 3, requires_grad=True)  #weights\n",
    "b = torch.randn(3, requires_grad=True)  #bias"
   ]
  },
  {
   "cell_type": "code",
   "execution_count": 60,
   "metadata": {
    "ExecuteTime": {
     "end_time": "2021-10-28T22:17:54.425898Z",
     "start_time": "2021-10-28T22:17:54.406906Z"
    }
   },
   "outputs": [
    {
     "data": {
      "text/plain": [
       "tensor([ 1.9472, -3.5381, -2.4886], grad_fn=<AddBackward0>)"
      ]
     },
     "execution_count": 60,
     "metadata": {},
     "output_type": "execute_result"
    }
   ],
   "source": [
    "z = torch.matmul(x, w) + b\n",
    "z"
   ]
  },
  {
   "cell_type": "code",
   "execution_count": 61,
   "metadata": {
    "ExecuteTime": {
     "end_time": "2021-10-28T22:17:54.552931Z",
     "start_time": "2021-10-28T22:17:54.541900Z"
    }
   },
   "outputs": [
    {
     "data": {
      "text/plain": [
       "tensor(2.6580, grad_fn=<MeanBackward0>)"
      ]
     },
     "execution_count": 61,
     "metadata": {},
     "output_type": "execute_result"
    }
   ],
   "source": [
    "loss = torch.abs((z - y)).mean()\n",
    "loss"
   ]
  },
  {
   "cell_type": "code",
   "execution_count": 62,
   "metadata": {
    "ExecuteTime": {
     "end_time": "2021-10-28T22:17:55.573981Z",
     "start_time": "2021-10-28T22:17:55.553981Z"
    }
   },
   "outputs": [
    {
     "name": "stdout",
     "output_type": "stream",
     "text": [
      "tensor([[ 0.3333, -0.3333, -0.3333],\n",
      "        [ 0.3333, -0.3333, -0.3333],\n",
      "        [ 0.3333, -0.3333, -0.3333],\n",
      "        [ 0.3333, -0.3333, -0.3333],\n",
      "        [ 0.3333, -0.3333, -0.3333]])\n",
      "tensor([ 0.3333, -0.3333, -0.3333])\n"
     ]
    }
   ],
   "source": [
    "loss.backward()\n",
    "print(w.grad)\n",
    "print(b.grad)"
   ]
  },
  {
   "cell_type": "markdown",
   "metadata": {},
   "source": [
    "## Regresja - z siecią neuronową"
   ]
  },
  {
   "cell_type": "markdown",
   "metadata": {},
   "source": [
    "### Przykład\n",
    "+ Przewidywanie ceny jabłek i śliwek, gdy mamy podaną liczbę kupionych jabłek i śliwek i cenę za cały koszyk."
   ]
  },
  {
   "cell_type": "code",
   "execution_count": 63,
   "metadata": {
    "ExecuteTime": {
     "end_time": "2021-10-28T22:17:56.620062Z",
     "start_time": "2021-10-28T22:17:56.607080Z"
    }
   },
   "outputs": [],
   "source": [
    "apples_kg_ordered = [2, 4, 7, 3, 13]\n",
    "plums_kg_ordered = [3, 8, 9, 1, 1]\n",
    "prices = [11.97, 28.05, 38.98, 10.96, 41.1]"
   ]
  },
  {
   "cell_type": "markdown",
   "metadata": {},
   "source": [
    "+ Przygotowanie tensorów:"
   ]
  },
  {
   "cell_type": "code",
   "execution_count": 64,
   "metadata": {
    "ExecuteTime": {
     "end_time": "2021-10-28T22:17:57.776279Z",
     "start_time": "2021-10-28T22:17:57.763278Z"
    }
   },
   "outputs": [
    {
     "name": "stdout",
     "output_type": "stream",
     "text": [
      "tensor([[ 2.,  3.],\n",
      "        [ 4.,  8.],\n",
      "        [ 7.,  9.],\n",
      "        [ 3.,  1.],\n",
      "        [13.,  1.]])\n",
      "tensor([11.9700, 28.0500, 38.9800, 10.9600, 41.1000])\n"
     ]
    }
   ],
   "source": [
    "X = torch.tensor([apples_kg_ordered, plums_kg_ordered])\n",
    "Y = torch.tensor(prices)\n",
    "X = X.T.float()\n",
    "Y = Y.T\n",
    "print(X)\n",
    "print(Y)"
   ]
  },
  {
   "cell_type": "markdown",
   "metadata": {},
   "source": [
    "+ Parametry podlegające optymalizacji:"
   ]
  },
  {
   "cell_type": "code",
   "execution_count": 65,
   "metadata": {
    "ExecuteTime": {
     "end_time": "2021-10-28T22:17:58.123141Z",
     "start_time": "2021-10-28T22:17:58.105155Z"
    }
   },
   "outputs": [
    {
     "data": {
      "text/plain": [
       "tensor([0.4614, 0.5743], requires_grad=True)"
      ]
     },
     "execution_count": 65,
     "metadata": {},
     "output_type": "execute_result"
    }
   ],
   "source": [
    "params = torch.rand(2, requires_grad=True)\n",
    "params"
   ]
  },
  {
   "cell_type": "markdown",
   "metadata": {},
   "source": [
    "+ Graf obliczeń:"
   ]
  },
  {
   "cell_type": "code",
   "execution_count": 66,
   "metadata": {
    "ExecuteTime": {
     "end_time": "2021-10-28T22:17:59.190484Z",
     "start_time": "2021-10-28T22:17:59.175450Z"
    }
   },
   "outputs": [
    {
     "data": {
      "text/plain": [
       "tensor([2.6456, 6.4398, 8.3983, 1.9585, 6.5725], grad_fn=<MvBackward>)"
      ]
     },
     "execution_count": 66,
     "metadata": {},
     "output_type": "execute_result"
    }
   ],
   "source": [
    "y_pred = X @ params\n",
    "y_pred"
   ]
  },
  {
   "cell_type": "markdown",
   "metadata": {},
   "source": [
    "+ Strata:"
   ]
  },
  {
   "cell_type": "code",
   "execution_count": 67,
   "metadata": {
    "ExecuteTime": {
     "end_time": "2021-10-28T22:17:59.460134Z",
     "start_time": "2021-10-28T22:17:59.451165Z"
    }
   },
   "outputs": [
    {
     "data": {
      "text/plain": [
       "tensor(552.4707, grad_fn=<MeanBackward0>)"
      ]
     },
     "execution_count": 67,
     "metadata": {},
     "output_type": "execute_result"
    }
   ],
   "source": [
    "loss = (torch.square(Y - y_pred)).mean()\n",
    "loss"
   ]
  },
  {
   "cell_type": "markdown",
   "metadata": {},
   "source": [
    "+ Pojedyncza optymalizacja:"
   ]
  },
  {
   "cell_type": "code",
   "execution_count": 68,
   "metadata": {
    "ExecuteTime": {
     "end_time": "2021-10-28T22:18:01.531275Z",
     "start_time": "2021-10-28T22:18:01.514276Z"
    }
   },
   "outputs": [],
   "source": [
    "loss.backward()"
   ]
  },
  {
   "cell_type": "code",
   "execution_count": 69,
   "metadata": {
    "ExecuteTime": {
     "end_time": "2021-10-28T22:18:02.469868Z",
     "start_time": "2021-10-28T22:18:02.460899Z"
    },
    "scrolled": true
   },
   "outputs": [
    {
     "data": {
      "text/plain": [
       "tensor([-318.0090, -207.8473])"
      ]
     },
     "execution_count": 69,
     "metadata": {},
     "output_type": "execute_result"
    }
   ],
   "source": [
    "params.grad"
   ]
  },
  {
   "cell_type": "code",
   "execution_count": 70,
   "metadata": {
    "ExecuteTime": {
     "end_time": "2021-10-28T22:18:02.658646Z",
     "start_time": "2021-10-28T22:18:02.645613Z"
    }
   },
   "outputs": [],
   "source": [
    "lr = 0.001"
   ]
  },
  {
   "cell_type": "code",
   "execution_count": 71,
   "metadata": {
    "ExecuteTime": {
     "end_time": "2021-10-28T22:18:03.605283Z",
     "start_time": "2021-10-28T22:18:03.585283Z"
    }
   },
   "outputs": [
    {
     "name": "stdout",
     "output_type": "stream",
     "text": [
      "tensor([0.4614, 0.5743], requires_grad=True)\n"
     ]
    },
    {
     "data": {
      "text/plain": [
       "tensor([0.7794, 0.7821], grad_fn=<SubBackward0>)"
      ]
     },
     "execution_count": 71,
     "metadata": {},
     "output_type": "execute_result"
    }
   ],
   "source": [
    "print(params)\n",
    "params - lr * params.grad"
   ]
  },
  {
   "cell_type": "markdown",
   "metadata": {},
   "source": [
    "+ Spięcie wszystkiego w jedność i wykonanie 50 epok:"
   ]
  },
  {
   "cell_type": "code",
   "execution_count": 72,
   "metadata": {
    "ExecuteTime": {
     "end_time": "2021-10-28T22:18:04.906405Z",
     "start_time": "2021-10-28T22:18:04.890405Z"
    }
   },
   "outputs": [],
   "source": [
    "params = torch.rand(2, requires_grad=True)"
   ]
  },
  {
   "cell_type": "code",
   "execution_count": 73,
   "metadata": {
    "ExecuteTime": {
     "end_time": "2021-10-28T22:18:05.063885Z",
     "start_time": "2021-10-28T22:18:05.027859Z"
    },
    "scrolled": true
   },
   "outputs": [
    {
     "name": "stdout",
     "output_type": "stream",
     "text": [
      "Param values: 1.2525, 0.55613 Gradients: -277.3, -197.2 \n",
      "Param values: 1.4932, 0.72809 Gradients: -240.7, -172.0 \n",
      "Param values: 1.7021, 0.87805 Gradients: -208.9, -150.0 \n",
      "Param values: 1.8833, 1.0089 Gradients: -181.2, -130.8 \n",
      "Param values: 2.0405, 1.1231 Gradients: -157.2, -114.2 \n",
      "Param values: 2.1768, 1.2228 Gradients: -136.3, -99.7 \n",
      "Param values: 2.295, 1.3099 Gradients: -118.2, -87.1 \n",
      "Param values: 2.3974, 1.386 Gradients: -102.4, -76.14 \n",
      "Param values: 2.4861, 1.4526 Gradients: -88.74, -66.59 \n",
      "Param values: 2.563, 1.5109 Gradients: -76.86, -58.28 \n",
      "Param values: 2.6295, 1.5619 Gradients: -66.54, -51.05 \n",
      "Param values: 2.6871, 1.6067 Gradients: -57.58, -44.75 \n",
      "Param values: 2.7369, 1.6459 Gradients: -49.79, -39.26 \n",
      "Param values: 2.7799, 1.6804 Gradients: -43.04, -34.48 \n",
      "Param values: 2.8171, 1.7107 Gradients: -37.17, -30.32 \n",
      "Param values: 2.8492, 1.7374 Gradients: -32.08, -26.69 \n",
      "Param values: 2.8769, 1.7609 Gradients: -27.66, -23.52 \n",
      "Param values: 2.9007, 1.7817 Gradients: -23.83, -20.76 \n",
      "Param values: 2.9212, 1.8 Gradients: -20.5, -18.35 \n",
      "Param values: 2.9388, 1.8163 Gradients: -17.62, -16.24 \n",
      "Param values: 2.9539, 1.8307 Gradients: -15.12, -14.4 \n",
      "Param values: 2.9669, 1.8435 Gradients: -12.95, -12.8 \n",
      "Param values: 2.9779, 1.8549 Gradients: -11.07, -11.39 \n",
      "Param values: 2.9874, 1.865 Gradients: -9.444, -10.16 \n",
      "Param values: 2.9954, 1.8741 Gradients: -8.035, -9.088 \n",
      "Param values: 3.0022, 1.8823 Gradients: -6.816, -8.145 \n",
      "Param values: 3.008, 1.8896 Gradients: -5.761, -7.318 \n",
      "Param values: 3.0128, 1.8962 Gradients: -4.849, -6.591 \n",
      "Param values: 3.0169, 1.9021 Gradients: -4.062, -5.953 \n",
      "Param values: 3.0203, 1.9075 Gradients: -3.382, -5.392 \n",
      "Param values: 3.0231, 1.9124 Gradients: -2.795, -4.897 \n",
      "Param values: 3.0254, 1.9169 Gradients: -2.29, -4.46 \n",
      "Param values: 3.0272, 1.921 Gradients: -1.855, -4.075 \n",
      "Param values: 3.0287, 1.9247 Gradients: -1.481, -3.734 \n",
      "Param values: 3.0299, 1.9281 Gradients: -1.16, -3.432 \n",
      "Param values: 3.0308, 1.9313 Gradients: -0.8848, -3.163 \n",
      "Param values: 3.0314, 1.9342 Gradients: -0.6494, -2.924 \n",
      "Param values: 3.0318, 1.9369 Gradients: -0.4483, -2.711 \n",
      "Param values: 3.0321, 1.9394 Gradients: -0.2772, -2.521 \n",
      "Param values: 3.0323, 1.9418 Gradients: -0.1318, -2.351 \n",
      "Param values: 3.0323, 1.944 Gradients: -0.008691, -2.198 \n",
      "Param values: 3.0322, 1.9461 Gradients: 0.09502, -2.061 \n",
      "Param values: 3.032, 1.948 Gradients: 0.182, -1.936 \n",
      "Param values: 3.0317, 1.9498 Gradients: 0.2547, -1.824 \n",
      "Param values: 3.0314, 1.9515 Gradients: 0.3149, -1.722 \n",
      "Param values: 3.0311, 1.9532 Gradients: 0.3644, -1.629 \n",
      "Param values: 3.0307, 1.9547 Gradients: 0.4046, -1.545 \n",
      "Param values: 3.0302, 1.9562 Gradients: 0.437, -1.467 \n",
      "Param values: 3.0298, 1.9576 Gradients: 0.4625, -1.396 \n",
      "Param values: 3.0293, 1.9589 Gradients: 0.4821, -1.331 \n"
     ]
    }
   ],
   "source": [
    "for epoch in range(50):\n",
    "    y_pred = X @ params\n",
    "    loss = (torch.square(Y - y_pred)).mean()\n",
    "    loss.backward()\n",
    "    with torch.no_grad():\n",
    "        params.copy_(params - lr * params.grad)\n",
    "    print(f\"Param values: {params[0]:.5}, {params[1]:.5}\",\n",
    "          f\"Gradients: {params.grad[0]:.4}, {params.grad[1]:.4} \")\n",
    "    #     print()\n",
    "    params.grad.zero_()"
   ]
  },
  {
   "cell_type": "markdown",
   "metadata": {},
   "source": [
    "### Zadanie\n",
    "+ Tym razem na innym targu do ceny owoców doliczany jest stały koszt reklamówki. Napisz model regresji liniowej który oszacuje cenę kg ziemniaków, pomidorów i reklamówki"
   ]
  },
  {
   "cell_type": "code",
   "execution_count": 74,
   "metadata": {
    "ExecuteTime": {
     "end_time": "2021-10-28T22:18:10.966758Z",
     "start_time": "2021-10-28T22:18:10.957759Z"
    }
   },
   "outputs": [],
   "source": [
    "potatoes_kg_ordered = [1, 3, 7, 3, 10, 6, 8, 4, 3, 1, 2, 0]\n",
    "tomatoes_kg_ordered = [5, 2, 3, 1, 2, 3, 6, 7, 3, 2, 3, 1]\n",
    "prices = [\n",
    "    22.37, 14.45, 26.6, 10.44, 28.49, 24.52, 40.38, 36.51, 18.50, 10.46, 16.51,\n",
    "    4.58\n",
    "]"
   ]
  },
  {
   "cell_type": "code",
   "execution_count": 75,
   "metadata": {
    "ExecuteTime": {
     "end_time": "2021-10-28T22:18:11.375557Z",
     "start_time": "2021-10-28T22:18:11.370559Z"
    }
   },
   "outputs": [],
   "source": [
    "params = torch.rand(2, requires_grad=True)\n",
    "param_bagprice = torch.rand(1, requires_grad=True)\n",
    "lr = 0.001"
   ]
  },
  {
   "cell_type": "code",
   "execution_count": 76,
   "metadata": {
    "ExecuteTime": {
     "end_time": "2021-10-28T22:18:11.920880Z",
     "start_time": "2021-10-28T22:18:11.913911Z"
    }
   },
   "outputs": [
    {
     "name": "stdout",
     "output_type": "stream",
     "text": [
      "tensor([[ 1.,  5.],\n",
      "        [ 3.,  2.],\n",
      "        [ 7.,  3.],\n",
      "        [ 3.,  1.],\n",
      "        [10.,  2.],\n",
      "        [ 6.,  3.],\n",
      "        [ 8.,  6.],\n",
      "        [ 4.,  7.],\n",
      "        [ 3.,  3.],\n",
      "        [ 1.,  2.],\n",
      "        [ 2.,  3.],\n",
      "        [ 0.,  1.]])\n",
      "tensor([22.3700, 14.4500, 26.6000, 10.4400, 28.4900, 24.5200, 40.3800, 36.5100,\n",
      "        18.5000, 10.4600, 16.5100,  4.5800])\n"
     ]
    }
   ],
   "source": [
    "X = torch.tensor([potatoes_kg_ordered, tomatoes_kg_ordered])\n",
    "Y = torch.tensor(prices)\n",
    "X = X.T.float()\n",
    "Y = Y.T\n",
    "print(X)\n",
    "print(Y)"
   ]
  },
  {
   "cell_type": "code",
   "execution_count": 77,
   "metadata": {
    "ExecuteTime": {
     "end_time": "2021-10-28T22:18:15.089385Z",
     "start_time": "2021-10-28T22:18:13.635662Z"
    },
    "scrolled": true
   },
   "outputs": [
    {
     "name": "stdout",
     "output_type": "stream",
     "text": [
      "Param values: 0.92815, 0.68461, 0.72325 Gradients: -154.4, -124.3, -31.179\n",
      "Param values: 2.1744, 3.5371, 1.2318 Gradients: 1.835, -2.727, -0.044413\n",
      "Param values: 1.9982, 3.8063, 1.2083 Gradients: 0.3331, -0.5526, 0.20645\n",
      "Param values: 1.9676, 3.8643, 1.1625 Gradients: 0.04985, -0.1387, 0.23795\n",
      "Param values: 1.9643, 3.8818, 1.1155 Gradients: -0.002744, -0.05779, 0.22914\n",
      "Param values: 1.9661, 3.8912, 1.0712 Gradients: -0.01179, -0.04014, 0.21381\n",
      "Param values: 1.9686, 3.8986, 1.03 Gradients: -0.01269, -0.03465, 0.19825\n",
      "Param values: 1.971, 3.9052, 0.99188 Gradients: -0.01206, -0.03159, 0.18359\n",
      "Param values: 1.9734, 3.9113, 0.95655 Gradients: -0.01123, -0.02916, 0.16997\n",
      "Param values: 1.9755, 3.9169, 0.92384 Gradients: -0.01042, -0.02699, 0.15735\n",
      "Param values: 1.9775, 3.9221, 0.89356 Gradients: -0.009651, -0.02499, 0.14567\n",
      "Param values: 1.9794, 3.9269, 0.86552 Gradients: -0.008941, -0.02314, 0.13485\n",
      "Param values: 1.9811, 3.9313, 0.83957 Gradients: -0.008269, -0.02141, 0.12484\n",
      "Param values: 1.9827, 3.9355, 0.81555 Gradients: -0.007679, -0.01984, 0.11557\n",
      "Param values: 1.9842, 3.9393, 0.79331 Gradients: -0.007094, -0.01836, 0.10699\n",
      "Param values: 1.9855, 3.9428, 0.77271 Gradients: -0.006582, -0.01701, 0.099048\n",
      "Param values: 1.9868, 3.9461, 0.75365 Gradients: -0.006097, -0.01574, 0.091693\n",
      "Param values: 1.9879, 3.9491, 0.73601 Gradients: -0.00565, -0.01458, 0.084885\n",
      "Param values: 1.989, 3.9519, 0.71967 Gradients: -0.005192, -0.01347, 0.078591\n",
      "Param values: 1.99, 3.9545, 0.70455 Gradients: -0.004831, -0.01249, 0.072752\n",
      "Param values: 1.991, 3.9569, 0.69055 Gradients: -0.004465, -0.01155, 0.067352\n",
      "Param values: 1.9918, 3.9591, 0.67758 Gradients: -0.004119, -0.0107, 0.062352\n",
      "Param values: 1.9926, 3.9612, 0.66559 Gradients: -0.00381, -0.009894, 0.057726\n",
      "Param values: 1.9933, 3.9631, 0.65448 Gradients: -0.003522, -0.009166, 0.05344\n",
      "Param values: 1.994, 3.9648, 0.64419 Gradients: -0.003274, -0.008489, 0.049471\n",
      "Param values: 1.9946, 3.9665, 0.63467 Gradients: -0.003036, -0.007886, 0.045794\n",
      "Param values: 1.9952, 3.968, 0.62586 Gradients: -0.002789, -0.007256, 0.042403\n",
      "Param values: 1.9958, 3.9694, 0.6177 Gradients: -0.00262, -0.006772, 0.039244\n",
      "Param values: 1.9963, 3.9707, 0.61015 Gradients: -0.002437, -0.006274, 0.03633\n",
      "Param values: 1.9967, 3.9719, 0.60316 Gradients: -0.00222, -0.005803, 0.033636\n",
      "Param values: 1.9972, 3.973, 0.59668 Gradients: -0.002086, -0.005362, 0.031139\n",
      "Param values: 1.9976, 3.974, 0.59069 Gradients: -0.001918, -0.004974, 0.028827\n",
      "Param values: 1.9979, 3.9749, 0.58514 Gradients: -0.001792, -0.004631, 0.026681\n",
      "Param values: 1.9983, 3.9758, 0.58001 Gradients: -0.00162, -0.004249, 0.024711\n",
      "Param values: 1.9986, 3.9766, 0.57525 Gradients: -0.001503, -0.003934, 0.022875\n",
      "Param values: 1.9989, 3.9774, 0.57085 Gradients: -0.001401, -0.00368, 0.021171\n",
      "Param values: 1.9991, 3.9781, 0.56678 Gradients: -0.001357, -0.00343, 0.019592\n",
      "Param values: 1.9994, 3.9787, 0.56301 Gradients: -0.001248, -0.003182, 0.018137\n",
      "Param values: 1.9996, 3.9793, 0.55951 Gradients: -0.001122, -0.002945, 0.016793\n",
      "Param values: 1.9998, 3.9799, 0.55628 Gradients: -0.001021, -0.002727, 0.015548\n",
      "Param values: 2.0, 3.9804, 0.55329 Gradients: -0.0009823, -0.002511, 0.014395\n",
      "Param values: 2.0002, 3.9809, 0.55052 Gradients: -0.0008341, -0.002258, 0.013342\n",
      "Param values: 2.0004, 3.9813, 0.54795 Gradients: -0.0008224, -0.002191, 0.012332\n",
      "Param values: 2.0005, 3.9817, 0.54558 Gradients: -0.0008319, -0.00202, 0.011414\n",
      "Param values: 2.0007, 3.9821, 0.54338 Gradients: -0.0006755, -0.001788, 0.010588\n",
      "Param values: 2.0008, 3.9824, 0.54135 Gradients: -0.0006013, -0.001747, 0.0097885\n",
      "Param values: 2.0009, 3.9828, 0.53946 Gradients: -0.000589, -0.001544, 0.0090721\n",
      "Param values: 2.0011, 3.9831, 0.53772 Gradients: -0.0005903, -0.001528, 0.0083793\n",
      "Param values: 2.0012, 3.9834, 0.53611 Gradients: -0.0005546, -0.001318, 0.0077742\n",
      "Param values: 2.0013, 3.9836, 0.53461 Gradients: -0.0005811, -0.001299, 0.0071801\n"
     ]
    }
   ],
   "source": [
    "for epoch in range(10000):\n",
    "    y_pred = X @ params + param_bagprice\n",
    "    loss = (torch.square(Y - y_pred)).mean()\n",
    "    loss.backward()\n",
    "    with torch.no_grad():\n",
    "        params.copy_(params - lr * params.grad)\n",
    "        param_bagprice.copy_(param_bagprice - lr * param_bagprice.grad)\n",
    "    if epoch % 200 == 1:\n",
    "        print(\n",
    "            f\"Param values: {params[0]:.5}, {params[1]:.5}, {param_bagprice[0]:.5}\",\n",
    "            f\"Gradients: {params.grad[0]:.4}, {params.grad[1]:.4}, {param_bagprice.grad[0]:.5}\"\n",
    "        )\n",
    "    params.grad.zero_()\n",
    "    param_bagprice.grad.zero_()"
   ]
  },
  {
   "cell_type": "code",
   "execution_count": 78,
   "metadata": {
    "ExecuteTime": {
     "end_time": "2021-10-28T22:20:02.063625Z",
     "start_time": "2021-10-28T22:20:02.059659Z"
    }
   },
   "outputs": [
    {
     "name": "stdout",
     "output_type": "stream",
     "text": [
      "Potatoes price: 2.001\n",
      "Tomatoes price: 3.984\n",
      "Bag price: 0.53324\n"
     ]
    }
   ],
   "source": [
    "print(\n",
    "    f\"Potatoes price: {params[0]:.4}\\nTomatoes price: {params[1]:.4}\\nBag price: {param_bagprice[0]:.5}\"\n",
    ")"
   ]
  }
 ],
 "metadata": {
  "kernelspec": {
   "display_name": "venv",
   "language": "python",
   "name": "venv"
  },
  "language_info": {
   "codemirror_mode": {
    "name": "ipython",
    "version": 3
   },
   "file_extension": ".py",
   "mimetype": "text/x-python",
   "name": "python",
   "nbconvert_exporter": "python",
   "pygments_lexer": "ipython3",
   "version": "3.9.5"
  },
  "toc": {
   "base_numbering": 1,
   "nav_menu": {},
   "number_sections": true,
   "sideBar": true,
   "skip_h1_title": false,
   "title_cell": "Table of Contents",
   "title_sidebar": "Contents",
   "toc_cell": false,
   "toc_position": {},
   "toc_section_display": true,
   "toc_window_display": true
  },
  "varInspector": {
   "cols": {
    "lenName": 16,
    "lenType": 16,
    "lenVar": 40
   },
   "kernels_config": {
    "python": {
     "delete_cmd_postfix": "",
     "delete_cmd_prefix": "del ",
     "library": "var_list.py",
     "varRefreshCmd": "print(var_dic_list())"
    },
    "r": {
     "delete_cmd_postfix": ") ",
     "delete_cmd_prefix": "rm(",
     "library": "var_list.r",
     "varRefreshCmd": "cat(var_dic_list()) "
    }
   },
   "types_to_exclude": [
    "module",
    "function",
    "builtin_function_or_method",
    "instance",
    "_Feature"
   ],
   "window_display": false
  }
 },
 "nbformat": 4,
 "nbformat_minor": 4
}
